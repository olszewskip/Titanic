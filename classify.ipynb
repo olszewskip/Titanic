{
 "cells": [
  {
   "cell_type": "markdown",
   "metadata": {},
   "source": [
    "# Goal:\n",
    "\n",
    "* Fit the training-data to a few classifiers.\n",
    "* Measure/visualize the performance using confusion matric and ROC-curve.\n",
    "* Choose the best model (possibly an ensamble) based on accuracy on the validation-data.\n",
    "* Save it to file."
   ]
  },
  {
   "cell_type": "code",
   "execution_count": 1,
   "metadata": {},
   "outputs": [],
   "source": [
    "import os\n",
    "import numpy as np\n",
    "import pandas as pd\n",
    "import matplotlib.pyplot as plt\n",
    "\n",
    "from sklearn.model_selection import train_test_split\n",
    "\n",
    "from sklearn.neighbors import KNeighborsClassifier\n",
    "from sklearn.linear_model import LogisticRegression\n",
    "from sklearn.naive_bayes import GaussianNB, ComplementNB\n",
    "from sklearn.tree import DecisionTreeClassifier\n",
    "from sklearn.ensemble import RandomForestClassifier, GradientBoostingClassifier, AdaBoostClassifier, VotingClassifier\n",
    "from sklearn.model_selection import GridSearchCV\n",
    "\n",
    "from sklearn.pipeline import Pipeline\n",
    "\n",
    "from sklearn.metrics import confusion_matrix, accuracy_score, roc_auc_score\n",
    "from sklearn.metrics import roc_curve, precision_recall_curve\n",
    "import seaborn as sns\n",
    "\n",
    "from pickle import dump, load"
   ]
  },
  {
   "cell_type": "markdown",
   "metadata": {},
   "source": [
    "---\n",
    "Copy-paste the data loading and the train-val-test split from the *preprocess_visualize.ipynb* notebook."
   ]
  },
  {
   "cell_type": "code",
   "execution_count": 2,
   "metadata": {},
   "outputs": [],
   "source": [
    "data_trainval = pd.read_csv(os.path.join('data', 'train.csv'))\n",
    "X_trainval = data_trainval[data_trainval.columns.drop('Survived')]\n",
    "y_trainval = data_trainval.Survived\n",
    "\n",
    "X_train, X_val, y_train, y_val = train_test_split(X_trainval, y_trainval, test_size=0.1, stratify = y_trainval, random_state=42)"
   ]
  },
  {
   "cell_type": "code",
   "execution_count": 3,
   "metadata": {},
   "outputs": [
    {
     "data": {
      "text/plain": [
       "(90, 11)"
      ]
     },
     "execution_count": 3,
     "metadata": {},
     "output_type": "execute_result"
    }
   ],
   "source": [
    "X_val.shape"
   ]
  },
  {
   "cell_type": "code",
   "execution_count": 4,
   "metadata": {},
   "outputs": [
    {
     "data": {
      "text/plain": [
       "0    0.611111\n",
       "1    0.388889\n",
       "Name: Survived, dtype: float64"
      ]
     },
     "execution_count": 4,
     "metadata": {},
     "output_type": "execute_result"
    }
   ],
   "source": [
    "y_val.value_counts() / len(y_val)"
   ]
  },
  {
   "cell_type": "markdown",
   "metadata": {},
   "source": [
    "---\n",
    "Define plotting utilities"
   ]
  },
  {
   "cell_type": "code",
   "execution_count": 5,
   "metadata": {},
   "outputs": [],
   "source": [
    "def confusion_matrix_on_val(name, estimator):\n",
    "    y_val_pred = estimator.predict(X_val)\n",
    "\n",
    "    print(f\"{name}:\")\n",
    "    print(f\"Accuracy on validation: {accuracy_score(y_val, y_val_pred)}\")\n",
    "\n",
    "    cm = confusion_matrix(y_val, y_val_pred)\n",
    "    fig, ax = plt.subplots()\n",
    "    fig.set_size_inches(6, 5)\n",
    "    sns.heatmap(cm, ax=ax, annot=True, fmt='d', cmap=\"YlGnBu\")\n",
    "    ax.set_xlabel('Predicted', fontsize=14)\n",
    "    ax.set_ylabel('True', fontsize=14)\n",
    "    plt.title(f'Confusion matrix on validation', fontsize=15)\n",
    "    plt.show()\n",
    "    \n",
    "def ROC_on_val(estimators):\n",
    "    \n",
    "    fig, ax = plt.subplots(ncols=1)\n",
    "    fig.set_size_inches(6, 6)\n",
    "    \n",
    "    for name, estimator in estimators.items():\n",
    "        \n",
    "        y_val_proba = estimator.predict_proba(X_val)[:,1]    \n",
    "        fpr, tpr, thresholds = roc_curve(y_val, y_val_proba)\n",
    "        ax.plot(fpr, tpr, label=name)\n",
    "\n",
    "    ax.plot([0, 1], [0, 1], ls='--', color='black', lw=.3)\n",
    "    ax.set(xlabel='False Positive Rate',\n",
    "           ylabel='True Positive Rate',\n",
    "           xlim=[-.01, 1.01], ylim=[-.01, 1.01],\n",
    "           title='ROC curve')\n",
    "    ax.grid(True)\n",
    "    ax.legend()\n",
    "    plt.show()"
   ]
  },
  {
   "cell_type": "markdown",
   "metadata": {},
   "source": [
    "---\n",
    "Build the preprocessing pipeline by running the script. It contains only class definitions and class instantiations (and occasional definition of a constant). "
   ]
  },
  {
   "cell_type": "code",
   "execution_count": 6,
   "metadata": {},
   "outputs": [],
   "source": [
    "%run build_preprocess_pipe.py"
   ]
  },
  {
   "cell_type": "markdown",
   "metadata": {},
   "source": [
    "We can do e.g."
   ]
  },
  {
   "cell_type": "code",
   "execution_count": 7,
   "metadata": {},
   "outputs": [],
   "source": [
    "preprocess = preprocessing_pipe().fit(X_train)"
   ]
  },
  {
   "cell_type": "markdown",
   "metadata": {},
   "source": [
    "---\n",
    "As a warmup, fit a few classifiers without tuning anything. We need models that can give a probability estimate. This rules out SVM-based classifiers."
   ]
  },
  {
   "cell_type": "code",
   "execution_count": 8,
   "metadata": {},
   "outputs": [],
   "source": [
    "X_train_preprocess = preprocess.transform(X_train)\n",
    "X_val_preprocess = preprocess.transform(X_val)"
   ]
  },
  {
   "cell_type": "code",
   "execution_count": 9,
   "metadata": {},
   "outputs": [
    {
     "data": {
      "text/plain": [
       "0.6777777777777778"
      ]
     },
     "execution_count": 9,
     "metadata": {},
     "output_type": "execute_result"
    }
   ],
   "source": [
    "neighbors = KNeighborsClassifier(n_neighbors=5).fit(X_train_preprocess, y_train)\n",
    "neighbors.score(X_val_preprocess, y_val)"
   ]
  },
  {
   "cell_type": "code",
   "execution_count": 10,
   "metadata": {},
   "outputs": [
    {
     "name": "stdout",
     "output_type": "stream",
     "text": [
      "0.83270911360799\n",
      "0.8555555555555555\n"
     ]
    }
   ],
   "source": [
    "log_reg = LogisticRegression(random_state=123, solver = 'lbfgs').fit(X_train_preprocess, y_train)\n",
    "print(log_reg.score(X_train_preprocess, y_train))\n",
    "print(log_reg.score(X_val_preprocess, y_val))"
   ]
  },
  {
   "cell_type": "code",
   "execution_count": 11,
   "metadata": {},
   "outputs": [
    {
     "name": "stdout",
     "output_type": "stream",
     "text": [
      "0.7415730337078652\n",
      "0.6777777777777778\n"
     ]
    }
   ],
   "source": [
    "bayes_gauss = GaussianNB().fit(X_train_preprocess, y_train)\n",
    "print(bayes_gauss.score(X_train_preprocess, y_train))\n",
    "print(bayes_gauss.score(X_val_preprocess, y_val))"
   ]
  },
  {
   "cell_type": "code",
   "execution_count": 12,
   "metadata": {},
   "outputs": [
    {
     "name": "stdout",
     "output_type": "stream",
     "text": [
      "0.7403245942571786\n",
      "0.7111111111111111\n"
     ]
    }
   ],
   "source": [
    "bayes_complement = ComplementNB().fit(X_train_preprocess, y_train)\n",
    "print(bayes_complement.score(X_train_preprocess, y_train))\n",
    "print(bayes_complement.score(X_val_preprocess, y_val))"
   ]
  },
  {
   "cell_type": "code",
   "execution_count": 13,
   "metadata": {},
   "outputs": [
    {
     "name": "stdout",
     "output_type": "stream",
     "text": [
      "0.8789013732833958\n",
      "0.8\n"
     ]
    }
   ],
   "source": [
    "rand_forest = RandomForestClassifier(n_estimators=150, max_depth=6, random_state=123).fit(X_train_preprocess, y_train)\n",
    "print(rand_forest.score(X_train_preprocess, y_train))\n",
    "print(rand_forest.score(X_val_preprocess, y_val))"
   ]
  },
  {
   "cell_type": "code",
   "execution_count": 14,
   "metadata": {},
   "outputs": [
    {
     "name": "stdout",
     "output_type": "stream",
     "text": [
      "0.9225967540574282\n",
      "0.8222222222222222\n"
     ]
    }
   ],
   "source": [
    "grad_boost = GradientBoostingClassifier(n_estimators=150, max_depth=3, random_state=123, learning_rate=0.1, subsample=0.9).fit(X_train_preprocess, y_train)\n",
    "print(grad_boost.score(X_train_preprocess, y_train))\n",
    "print(grad_boost.score(X_val_preprocess, y_val))"
   ]
  },
  {
   "cell_type": "code",
   "execution_count": 15,
   "metadata": {},
   "outputs": [
    {
     "name": "stdout",
     "output_type": "stream",
     "text": [
      "0.8314606741573034\n",
      "0.8222222222222222\n"
     ]
    }
   ],
   "source": [
    "ada_boost = AdaBoostClassifier(base_estimator=ComplementNB(), n_estimators=150, learning_rate=0.5, random_state=123).fit(X_train_preprocess, y_train)\n",
    "print(ada_boost.score(X_train_preprocess, y_train))\n",
    "print(ada_boost.score(X_val_preprocess, y_val))"
   ]
  },
  {
   "cell_type": "markdown",
   "metadata": {},
   "source": [
    "Unsurprisingly, bare KNeighborsClassifier does not keep up. The naive Bayes's also struggle, unless Ada-boosted. GradientBoosted trees are easy to overfit, wheras Logistic Regression seems rather robust in that regard. Let's choose Logistic Regression, GradientBoosted trees and AdaBoosted Complement NaiveBayes for futher tuning.\n",
    "\n",
    "---"
   ]
  },
  {
   "cell_type": "markdown",
   "metadata": {},
   "source": [
    "## GridSearch: Logistic Regression"
   ]
  },
  {
   "cell_type": "code",
   "execution_count": 16,
   "metadata": {},
   "outputs": [],
   "source": [
    "logreg_clf = Pipeline([\n",
    "    ('preprocess', preprocessing_pipe()),\n",
    "    ('clf', LogisticRegression(solver='saga', max_iter=1e5))\n",
    "])"
   ]
  },
  {
   "cell_type": "code",
   "execution_count": 17,
   "metadata": {},
   "outputs": [],
   "source": [
    "param_grid = {}\n",
    "param_grid['preprocess__numerical_transformer__fare_transformer__scaler__feature_range'] = [(0.1, 0.9),  (0.3, 0.7)]\n",
    "param_grid['preprocess__numerical_transformer__age_discretizer__tresholds'] = [[5,10,20,60], [2,5,10,20,30,40,50,60]]\n",
    "param_grid['clf__C'] = [0.5, 1, 5, 10]\n",
    "param_grid['clf__penalty'] = ['l1', 'l2']\n",
    "\n",
    "logreg_clf_cv = GridSearchCV(logreg_clf, param_grid, cv=4, refit=True, return_train_score=True, n_jobs=-1).fit(X_train, y_train)"
   ]
  },
  {
   "cell_type": "code",
   "execution_count": 18,
   "metadata": {},
   "outputs": [],
   "source": [
    "with open(\"logreg_clf_cv.pkl\", \"wb\") as file:\n",
    "    dump(logreg_clf_cv, file)"
   ]
  },
  {
   "cell_type": "code",
   "execution_count": 19,
   "metadata": {},
   "outputs": [],
   "source": [
    "with open(\"logreg_clf_cv.pkl\", \"rb\") as file:\n",
    "    logreg_clf_cv = load(file)"
   ]
  },
  {
   "cell_type": "markdown",
   "metadata": {},
   "source": [
    "Results of the Grid Search are given in the table below. One may choose which columns to display by specifying the corresponding number from the dictionary below."
   ]
  },
  {
   "cell_type": "code",
   "execution_count": 20,
   "metadata": {},
   "outputs": [
    {
     "data": {
      "text/plain": [
       "{0: 'mean_fit_time',\n",
       " 1: 'std_fit_time',\n",
       " 2: 'mean_score_time',\n",
       " 3: 'std_score_time',\n",
       " 4: 'param_clf__C',\n",
       " 5: 'param_clf__penalty',\n",
       " 6: 'param_preprocess__numerical_transformer__age_discretizer__tresholds',\n",
       " 7: 'param_preprocess__numerical_transformer__fare_transformer__scaler__feature_range',\n",
       " 8: 'params',\n",
       " 9: 'split0_test_score',\n",
       " 10: 'split1_test_score',\n",
       " 11: 'split2_test_score',\n",
       " 12: 'split3_test_score',\n",
       " 13: 'mean_test_score',\n",
       " 14: 'std_test_score',\n",
       " 15: 'rank_test_score',\n",
       " 16: 'split0_train_score',\n",
       " 17: 'split1_train_score',\n",
       " 18: 'split2_train_score',\n",
       " 19: 'split3_train_score',\n",
       " 20: 'mean_train_score',\n",
       " 21: 'std_train_score'}"
      ]
     },
     "execution_count": 20,
     "metadata": {},
     "output_type": "execute_result"
    }
   ],
   "source": [
    "column_translate = {key: idx for (idx, key) in enumerate(logreg_clf_cv.cv_results_.keys())}\n",
    "{idx: key for (idx, key) in enumerate(logreg_clf_cv.cv_results_.keys())}"
   ]
  },
  {
   "cell_type": "code",
   "execution_count": 21,
   "metadata": {},
   "outputs": [
    {
     "data": {
      "text/html": [
       "<div>\n",
       "<style scoped>\n",
       "    .dataframe tbody tr th:only-of-type {\n",
       "        vertical-align: middle;\n",
       "    }\n",
       "\n",
       "    .dataframe tbody tr th {\n",
       "        vertical-align: top;\n",
       "    }\n",
       "\n",
       "    .dataframe thead th {\n",
       "        text-align: right;\n",
       "    }\n",
       "</style>\n",
       "<table border=\"1\" class=\"dataframe\">\n",
       "  <thead>\n",
       "    <tr style=\"text-align: right;\">\n",
       "      <th></th>\n",
       "      <th>4</th>\n",
       "      <th>5</th>\n",
       "      <th>6</th>\n",
       "      <th>7</th>\n",
       "      <th>13</th>\n",
       "      <th>20</th>\n",
       "      <th>0</th>\n",
       "    </tr>\n",
       "  </thead>\n",
       "  <tbody>\n",
       "    <tr>\n",
       "      <th>14</th>\n",
       "      <td>1</td>\n",
       "      <td>l2</td>\n",
       "      <td>[2, 5, 10, 20, 30, 40, 50, 60]</td>\n",
       "      <td>(0.1, 0.9)</td>\n",
       "      <td>0.816479</td>\n",
       "      <td>0.837690</td>\n",
       "      <td>0.209603</td>\n",
       "    </tr>\n",
       "    <tr>\n",
       "      <th>23</th>\n",
       "      <td>5</td>\n",
       "      <td>l2</td>\n",
       "      <td>[2, 5, 10, 20, 30, 40, 50, 60]</td>\n",
       "      <td>(0.3, 0.7)</td>\n",
       "      <td>0.816479</td>\n",
       "      <td>0.838111</td>\n",
       "      <td>0.222070</td>\n",
       "    </tr>\n",
       "    <tr>\n",
       "      <th>10</th>\n",
       "      <td>1</td>\n",
       "      <td>l1</td>\n",
       "      <td>[2, 5, 10, 20, 30, 40, 50, 60]</td>\n",
       "      <td>(0.1, 0.9)</td>\n",
       "      <td>0.816479</td>\n",
       "      <td>0.833947</td>\n",
       "      <td>0.211334</td>\n",
       "    </tr>\n",
       "    <tr>\n",
       "      <th>4</th>\n",
       "      <td>0.5</td>\n",
       "      <td>l2</td>\n",
       "      <td>[5, 10, 20, 60]</td>\n",
       "      <td>(0.1, 0.9)</td>\n",
       "      <td>0.815231</td>\n",
       "      <td>0.827708</td>\n",
       "      <td>0.170606</td>\n",
       "    </tr>\n",
       "    <tr>\n",
       "      <th>5</th>\n",
       "      <td>0.5</td>\n",
       "      <td>l2</td>\n",
       "      <td>[5, 10, 20, 60]</td>\n",
       "      <td>(0.3, 0.7)</td>\n",
       "      <td>0.815231</td>\n",
       "      <td>0.828540</td>\n",
       "      <td>0.147993</td>\n",
       "    </tr>\n",
       "    <tr>\n",
       "      <th>6</th>\n",
       "      <td>0.5</td>\n",
       "      <td>l2</td>\n",
       "      <td>[2, 5, 10, 20, 30, 40, 50, 60]</td>\n",
       "      <td>(0.1, 0.9)</td>\n",
       "      <td>0.815231</td>\n",
       "      <td>0.831446</td>\n",
       "      <td>0.153850</td>\n",
       "    </tr>\n",
       "  </tbody>\n",
       "</table>\n",
       "</div>"
      ],
      "text/plain": [
       "     4   5                               6           7         13        20  \\\n",
       "14    1  l2  [2, 5, 10, 20, 30, 40, 50, 60]  (0.1, 0.9)  0.816479  0.837690   \n",
       "23    5  l2  [2, 5, 10, 20, 30, 40, 50, 60]  (0.3, 0.7)  0.816479  0.838111   \n",
       "10    1  l1  [2, 5, 10, 20, 30, 40, 50, 60]  (0.1, 0.9)  0.816479  0.833947   \n",
       "4   0.5  l2                 [5, 10, 20, 60]  (0.1, 0.9)  0.815231  0.827708   \n",
       "5   0.5  l2                 [5, 10, 20, 60]  (0.3, 0.7)  0.815231  0.828540   \n",
       "6   0.5  l2  [2, 5, 10, 20, 30, 40, 50, 60]  (0.1, 0.9)  0.815231  0.831446   \n",
       "\n",
       "          0   \n",
       "14  0.209603  \n",
       "23  0.222070  \n",
       "10  0.211334  \n",
       "4   0.170606  \n",
       "5   0.147993  \n",
       "6   0.153850  "
      ]
     },
     "execution_count": 21,
     "metadata": {},
     "output_type": "execute_result"
    }
   ],
   "source": [
    "choose = [4, 5, 6, 7, 13, 20, 0]\n",
    "sort_by = 13\n",
    "results = pd.DataFrame(logreg_clf_cv.cv_results_).iloc[:, choose].rename(columns=column_translate).sort_values(sort_by, ascending=False)\n",
    "results.iloc[:6]"
   ]
  },
  {
   "cell_type": "code",
   "execution_count": 22,
   "metadata": {},
   "outputs": [
    {
     "name": "stdout",
     "output_type": "stream",
     "text": [
      "Logistic Regression:\n",
      "Accuracy on validation: 0.8222222222222222\n"
     ]
    },
    {
     "data": {
      "image/png": "[encoded data removed]",
      "text/plain": [
       "<Figure size 432x360 with 2 Axes>"
      ]
     },
     "metadata": {
      "needs_background": "light"
     },
     "output_type": "display_data"
    }
   ],
   "source": [
    "confusion_matrix_on_val(\"Logistic Regression\", logreg_clf_cv.best_estimator_)"
   ]
  },
  {
   "cell_type": "code",
   "execution_count": 23,
   "metadata": {},
   "outputs": [
    {
     "data": {
      "image/png": "[encoded data removed]",
      "text/plain": [
       "<Figure size 432x432 with 1 Axes>"
      ]
     },
     "metadata": {
      "needs_background": "light"
     },
     "output_type": "display_data"
    }
   ],
   "source": [
    "ROC_on_val({\"Logistic Regression\": logreg_clf_cv.best_estimator_})"
   ]
  },
  {
   "cell_type": "markdown",
   "metadata": {},
   "source": [
    "---\n",
    "## GridSearch: GradienBoosting"
   ]
  },
  {
   "cell_type": "code",
   "execution_count": 24,
   "metadata": {},
   "outputs": [],
   "source": [
    "gradboost_clf = Pipeline([\n",
    "    ('preprocess', preprocessing_pipe()),\n",
    "    ('clf', GradientBoostingClassifier(random_state=123))\n",
    "])\n",
    "\n",
    "param_grid = {}\n",
    "param_grid['preprocess__numerical_transformer__fare_transformer__scaler__feature_range'] = [(0.1, 0.9),  (0.3, 0.7)]\n",
    "param_grid['preprocess__numerical_transformer__age_discretizer__tresholds'] = [[5,10,20,60], [2,5,10,20,30,40,50,60]]\n",
    "param_grid['clf__n_estimators'] = [80, 100, 150]\n",
    "param_grid['clf__max_depth'] = [2, 3, 5]\n",
    "param_grid['clf__learning_rate'] = [0.05, 0.1, 0.5]\n",
    "param_grid['clf__subsample'] = [0.1, 0.5, 1]\n",
    "\n",
    "gradboost_clf_cv = GridSearchCV(gradboost_clf, param_grid, cv=4, refit=True, return_train_score=True, n_jobs=-1, iid=False,).fit(X_train, y_train)"
   ]
  },
  {
   "cell_type": "code",
   "execution_count": 25,
   "metadata": {},
   "outputs": [],
   "source": [
    "with open(\"gradboost_clf_cv.pkl\", \"wb\") as file:\n",
    "    dump(gradboost_clf_cv, file)"
   ]
  },
  {
   "cell_type": "code",
   "execution_count": 26,
   "metadata": {},
   "outputs": [],
   "source": [
    "with open(\"gradboost_clf_cv.pkl\", \"rb\") as file:\n",
    "    gradboost_clf_cv = load(file)"
   ]
  },
  {
   "cell_type": "code",
   "execution_count": 27,
   "metadata": {},
   "outputs": [
    {
     "data": {
      "text/plain": [
       "{0: 'mean_fit_time',\n",
       " 1: 'std_fit_time',\n",
       " 2: 'mean_score_time',\n",
       " 3: 'std_score_time',\n",
       " 4: 'param_clf__learning_rate',\n",
       " 5: 'param_clf__max_depth',\n",
       " 6: 'param_clf__n_estimators',\n",
       " 7: 'param_clf__subsample',\n",
       " 8: 'param_preprocess__numerical_transformer__age_discretizer__tresholds',\n",
       " 9: 'param_preprocess__numerical_transformer__fare_transformer__scaler__feature_range',\n",
       " 10: 'params',\n",
       " 11: 'split0_test_score',\n",
       " 12: 'split1_test_score',\n",
       " 13: 'split2_test_score',\n",
       " 14: 'split3_test_score',\n",
       " 15: 'mean_test_score',\n",
       " 16: 'std_test_score',\n",
       " 17: 'rank_test_score',\n",
       " 18: 'split0_train_score',\n",
       " 19: 'split1_train_score',\n",
       " 20: 'split2_train_score',\n",
       " 21: 'split3_train_score',\n",
       " 22: 'mean_train_score',\n",
       " 23: 'std_train_score'}"
      ]
     },
     "execution_count": 27,
     "metadata": {},
     "output_type": "execute_result"
    }
   ],
   "source": [
    "column_translate = {key: idx for (idx, key) in enumerate(gradboost_clf_cv.cv_results_.keys())}\n",
    "{idx: key for (idx, key) in enumerate(gradboost_clf_cv.cv_results_.keys())}"
   ]
  },
  {
   "cell_type": "code",
   "execution_count": 28,
   "metadata": {},
   "outputs": [
    {
     "data": {
      "text/html": [
       "<div>\n",
       "<style scoped>\n",
       "    .dataframe tbody tr th:only-of-type {\n",
       "        vertical-align: middle;\n",
       "    }\n",
       "\n",
       "    .dataframe tbody tr th {\n",
       "        vertical-align: top;\n",
       "    }\n",
       "\n",
       "    .dataframe thead th {\n",
       "        text-align: right;\n",
       "    }\n",
       "</style>\n",
       "<table border=\"1\" class=\"dataframe\">\n",
       "  <thead>\n",
       "    <tr style=\"text-align: right;\">\n",
       "      <th></th>\n",
       "      <th>4</th>\n",
       "      <th>5</th>\n",
       "      <th>6</th>\n",
       "      <th>7</th>\n",
       "      <th>8</th>\n",
       "      <th>9</th>\n",
       "      <th>15</th>\n",
       "      <th>20</th>\n",
       "      <th>0</th>\n",
       "    </tr>\n",
       "  </thead>\n",
       "  <tbody>\n",
       "    <tr>\n",
       "      <th>127</th>\n",
       "      <td>0.1</td>\n",
       "      <td>2</td>\n",
       "      <td>100</td>\n",
       "      <td>0.5</td>\n",
       "      <td>[2, 5, 10, 20, 30, 40, 50, 60]</td>\n",
       "      <td>(0.3, 0.7)</td>\n",
       "      <td>0.831397</td>\n",
       "      <td>0.865225</td>\n",
       "      <td>0.286646</td>\n",
       "    </tr>\n",
       "    <tr>\n",
       "      <th>126</th>\n",
       "      <td>0.1</td>\n",
       "      <td>2</td>\n",
       "      <td>100</td>\n",
       "      <td>0.5</td>\n",
       "      <td>[2, 5, 10, 20, 30, 40, 50, 60]</td>\n",
       "      <td>(0.1, 0.9)</td>\n",
       "      <td>0.831397</td>\n",
       "      <td>0.865225</td>\n",
       "      <td>0.290636</td>\n",
       "    </tr>\n",
       "    <tr>\n",
       "      <th>143</th>\n",
       "      <td>0.1</td>\n",
       "      <td>2</td>\n",
       "      <td>150</td>\n",
       "      <td>1</td>\n",
       "      <td>[2, 5, 10, 20, 30, 40, 50, 60]</td>\n",
       "      <td>(0.3, 0.7)</td>\n",
       "      <td>0.827659</td>\n",
       "      <td>0.893511</td>\n",
       "      <td>0.308671</td>\n",
       "    </tr>\n",
       "    <tr>\n",
       "      <th>142</th>\n",
       "      <td>0.1</td>\n",
       "      <td>2</td>\n",
       "      <td>150</td>\n",
       "      <td>1</td>\n",
       "      <td>[2, 5, 10, 20, 30, 40, 50, 60]</td>\n",
       "      <td>(0.1, 0.9)</td>\n",
       "      <td>0.827659</td>\n",
       "      <td>0.893511</td>\n",
       "      <td>0.303605</td>\n",
       "    </tr>\n",
       "    <tr>\n",
       "      <th>162</th>\n",
       "      <td>0.1</td>\n",
       "      <td>3</td>\n",
       "      <td>100</td>\n",
       "      <td>0.5</td>\n",
       "      <td>[2, 5, 10, 20, 30, 40, 50, 60]</td>\n",
       "      <td>(0.1, 0.9)</td>\n",
       "      <td>0.827640</td>\n",
       "      <td>0.906822</td>\n",
       "      <td>0.339001</td>\n",
       "    </tr>\n",
       "    <tr>\n",
       "      <th>163</th>\n",
       "      <td>0.1</td>\n",
       "      <td>3</td>\n",
       "      <td>100</td>\n",
       "      <td>0.5</td>\n",
       "      <td>[2, 5, 10, 20, 30, 40, 50, 60]</td>\n",
       "      <td>(0.3, 0.7)</td>\n",
       "      <td>0.827640</td>\n",
       "      <td>0.906822</td>\n",
       "      <td>0.361536</td>\n",
       "    </tr>\n",
       "  </tbody>\n",
       "</table>\n",
       "</div>"
      ],
      "text/plain": [
       "      4  5    6    7                               8           9         15  \\\n",
       "127  0.1  2  100  0.5  [2, 5, 10, 20, 30, 40, 50, 60]  (0.3, 0.7)  0.831397   \n",
       "126  0.1  2  100  0.5  [2, 5, 10, 20, 30, 40, 50, 60]  (0.1, 0.9)  0.831397   \n",
       "143  0.1  2  150    1  [2, 5, 10, 20, 30, 40, 50, 60]  (0.3, 0.7)  0.827659   \n",
       "142  0.1  2  150    1  [2, 5, 10, 20, 30, 40, 50, 60]  (0.1, 0.9)  0.827659   \n",
       "162  0.1  3  100  0.5  [2, 5, 10, 20, 30, 40, 50, 60]  (0.1, 0.9)  0.827640   \n",
       "163  0.1  3  100  0.5  [2, 5, 10, 20, 30, 40, 50, 60]  (0.3, 0.7)  0.827640   \n",
       "\n",
       "           20        0   \n",
       "127  0.865225  0.286646  \n",
       "126  0.865225  0.290636  \n",
       "143  0.893511  0.308671  \n",
       "142  0.893511  0.303605  \n",
       "162  0.906822  0.339001  \n",
       "163  0.906822  0.361536  "
      ]
     },
     "execution_count": 28,
     "metadata": {},
     "output_type": "execute_result"
    }
   ],
   "source": [
    "choose = [4, 5, 6, 7, 8, 9, 15, 20, 0]\n",
    "sort_by = 15\n",
    "results = pd.DataFrame(gradboost_clf_cv.cv_results_).iloc[:, choose].rename(columns=column_translate).sort_values(sort_by, ascending=False)\n",
    "results.iloc[:6]"
   ]
  },
  {
   "cell_type": "code",
   "execution_count": 29,
   "metadata": {},
   "outputs": [
    {
     "name": "stdout",
     "output_type": "stream",
     "text": [
      "Gradient Boosting:\n",
      "Accuracy on validation: 0.8\n"
     ]
    },
    {
     "data": {
      "image/png": "[encoded data removed]",
      "text/plain": [
       "<Figure size 432x360 with 2 Axes>"
      ]
     },
     "metadata": {
      "needs_background": "light"
     },
     "output_type": "display_data"
    }
   ],
   "source": [
    "confusion_matrix_on_val(\"Gradient Boosting\", gradboost_clf_cv.best_estimator_)"
   ]
  },
  {
   "cell_type": "code",
   "execution_count": 30,
   "metadata": {},
   "outputs": [
    {
     "data": {
      "image/png": "[encoded data removed]",
      "text/plain": [
       "<Figure size 432x432 with 1 Axes>"
      ]
     },
     "metadata": {
      "needs_background": "light"
     },
     "output_type": "display_data"
    }
   ],
   "source": [
    "ROC_on_val({\"Logistic Regression\": logreg_clf_cv.best_estimator_,\n",
    "            \"Gradient Boosting\": gradboost_clf_cv.best_estimator_\n",
    "           })"
   ]
  },
  {
   "cell_type": "markdown",
   "metadata": {},
   "source": [
    "---\n",
    "## GridSearch: AdaBoost + NaiveBayes"
   ]
  },
  {
   "cell_type": "code",
   "execution_count": 31,
   "metadata": {},
   "outputs": [],
   "source": [
    "adaboost_clf = Pipeline([\n",
    "    ('preprocess', preprocessing_pipe()),\n",
    "    ('clf', AdaBoostClassifier(base_estimator=ComplementNB(), n_estimators=150, learning_rate=0.5, random_state=123).fit(X_train_preprocess, y_train))\n",
    "])\n",
    "\n",
    "param_grid = {}\n",
    "param_grid['preprocess__numerical_transformer__fare_transformer__scaler__feature_range'] = [(0.1, 0.9),  (0.3, 0.7)]\n",
    "param_grid['preprocess__numerical_transformer__age_discretizer__tresholds'] = [[5,10,20,60], [2,5,10,20,30,40,50,60]]\n",
    "param_grid['clf__n_estimators'] = [80, 100, 150]\n",
    "param_grid['clf__learning_rate'] = [0.05, 0.1, 0.5]\n",
    "param_grid['clf__base_estimator__alpha'] = [0, 0.1, 0.5]\n",
    "\n",
    "adaboost_clf_cv = GridSearchCV(adaboost_clf, param_grid, cv=4, refit=True, return_train_score=True, n_jobs=-1, iid=False,).fit(X_train, y_train)"
   ]
  },
  {
   "cell_type": "code",
   "execution_count": 32,
   "metadata": {},
   "outputs": [],
   "source": [
    "with open(\"adaboost_clf_cv.pkl\", \"wb\") as file:\n",
    "    dump(adaboost_clf_cv, file)"
   ]
  },
  {
   "cell_type": "code",
   "execution_count": 33,
   "metadata": {},
   "outputs": [],
   "source": [
    "with open(\"adaboost_clf_cv.pkl\", \"rb\") as file:\n",
    "    adaboost_clf_cv = load(file)"
   ]
  },
  {
   "cell_type": "code",
   "execution_count": 34,
   "metadata": {},
   "outputs": [
    {
     "data": {
      "text/plain": [
       "{0: 'mean_fit_time',\n",
       " 1: 'std_fit_time',\n",
       " 2: 'mean_score_time',\n",
       " 3: 'std_score_time',\n",
       " 4: 'param_clf__base_estimator__alpha',\n",
       " 5: 'param_clf__learning_rate',\n",
       " 6: 'param_clf__n_estimators',\n",
       " 7: 'param_preprocess__numerical_transformer__age_discretizer__tresholds',\n",
       " 8: 'param_preprocess__numerical_transformer__fare_transformer__scaler__feature_range',\n",
       " 9: 'params',\n",
       " 10: 'split0_test_score',\n",
       " 11: 'split1_test_score',\n",
       " 12: 'split2_test_score',\n",
       " 13: 'split3_test_score',\n",
       " 14: 'mean_test_score',\n",
       " 15: 'std_test_score',\n",
       " 16: 'rank_test_score',\n",
       " 17: 'split0_train_score',\n",
       " 18: 'split1_train_score',\n",
       " 19: 'split2_train_score',\n",
       " 20: 'split3_train_score',\n",
       " 21: 'mean_train_score',\n",
       " 22: 'std_train_score'}"
      ]
     },
     "execution_count": 34,
     "metadata": {},
     "output_type": "execute_result"
    }
   ],
   "source": [
    "column_translate = {key: idx for (idx, key) in enumerate(adaboost_clf_cv.cv_results_.keys())}\n",
    "{idx: key for (idx, key) in enumerate(adaboost_clf_cv.cv_results_.keys())}"
   ]
  },
  {
   "cell_type": "code",
   "execution_count": 35,
   "metadata": {},
   "outputs": [
    {
     "data": {
      "text/html": [
       "<div>\n",
       "<style scoped>\n",
       "    .dataframe tbody tr th:only-of-type {\n",
       "        vertical-align: middle;\n",
       "    }\n",
       "\n",
       "    .dataframe tbody tr th {\n",
       "        vertical-align: top;\n",
       "    }\n",
       "\n",
       "    .dataframe thead th {\n",
       "        text-align: right;\n",
       "    }\n",
       "</style>\n",
       "<table border=\"1\" class=\"dataframe\">\n",
       "  <thead>\n",
       "    <tr style=\"text-align: right;\">\n",
       "      <th></th>\n",
       "      <th>4</th>\n",
       "      <th>5</th>\n",
       "      <th>6</th>\n",
       "      <th>7</th>\n",
       "      <th>8</th>\n",
       "      <th>14</th>\n",
       "      <th>21</th>\n",
       "      <th>0</th>\n",
       "    </tr>\n",
       "  </thead>\n",
       "  <tbody>\n",
       "    <tr>\n",
       "      <th>53</th>\n",
       "      <td>0.1</td>\n",
       "      <td>0.1</td>\n",
       "      <td>100</td>\n",
       "      <td>[5, 10, 20, 60]</td>\n",
       "      <td>(0.3, 0.7)</td>\n",
       "      <td>0.820172</td>\n",
       "      <td>0.824796</td>\n",
       "      <td>0.556611</td>\n",
       "    </tr>\n",
       "    <tr>\n",
       "      <th>63</th>\n",
       "      <td>0.1</td>\n",
       "      <td>0.5</td>\n",
       "      <td>80</td>\n",
       "      <td>[2, 5, 10, 20, 30, 40, 50, 60]</td>\n",
       "      <td>(0.3, 0.7)</td>\n",
       "      <td>0.820109</td>\n",
       "      <td>0.828953</td>\n",
       "      <td>0.354441</td>\n",
       "    </tr>\n",
       "    <tr>\n",
       "      <th>52</th>\n",
       "      <td>0.1</td>\n",
       "      <td>0.1</td>\n",
       "      <td>100</td>\n",
       "      <td>[5, 10, 20, 60]</td>\n",
       "      <td>(0.1, 0.9)</td>\n",
       "      <td>0.818928</td>\n",
       "      <td>0.823547</td>\n",
       "      <td>0.472895</td>\n",
       "    </tr>\n",
       "    <tr>\n",
       "      <th>48</th>\n",
       "      <td>0.1</td>\n",
       "      <td>0.1</td>\n",
       "      <td>80</td>\n",
       "      <td>[5, 10, 20, 60]</td>\n",
       "      <td>(0.1, 0.9)</td>\n",
       "      <td>0.818916</td>\n",
       "      <td>0.823963</td>\n",
       "      <td>0.422318</td>\n",
       "    </tr>\n",
       "    <tr>\n",
       "      <th>106</th>\n",
       "      <td>0.5</td>\n",
       "      <td>0.5</td>\n",
       "      <td>150</td>\n",
       "      <td>[2, 5, 10, 20, 30, 40, 50, 60]</td>\n",
       "      <td>(0.1, 0.9)</td>\n",
       "      <td>0.818878</td>\n",
       "      <td>0.831867</td>\n",
       "      <td>0.594141</td>\n",
       "    </tr>\n",
       "    <tr>\n",
       "      <th>62</th>\n",
       "      <td>0.1</td>\n",
       "      <td>0.5</td>\n",
       "      <td>80</td>\n",
       "      <td>[2, 5, 10, 20, 30, 40, 50, 60]</td>\n",
       "      <td>(0.1, 0.9)</td>\n",
       "      <td>0.818853</td>\n",
       "      <td>0.829370</td>\n",
       "      <td>0.352908</td>\n",
       "    </tr>\n",
       "  </tbody>\n",
       "</table>\n",
       "</div>"
      ],
      "text/plain": [
       "      4    5    6                               7           8         14  \\\n",
       "53   0.1  0.1  100                 [5, 10, 20, 60]  (0.3, 0.7)  0.820172   \n",
       "63   0.1  0.5   80  [2, 5, 10, 20, 30, 40, 50, 60]  (0.3, 0.7)  0.820109   \n",
       "52   0.1  0.1  100                 [5, 10, 20, 60]  (0.1, 0.9)  0.818928   \n",
       "48   0.1  0.1   80                 [5, 10, 20, 60]  (0.1, 0.9)  0.818916   \n",
       "106  0.5  0.5  150  [2, 5, 10, 20, 30, 40, 50, 60]  (0.1, 0.9)  0.818878   \n",
       "62   0.1  0.5   80  [2, 5, 10, 20, 30, 40, 50, 60]  (0.1, 0.9)  0.818853   \n",
       "\n",
       "           21        0   \n",
       "53   0.824796  0.556611  \n",
       "63   0.828953  0.354441  \n",
       "52   0.823547  0.472895  \n",
       "48   0.823963  0.422318  \n",
       "106  0.831867  0.594141  \n",
       "62   0.829370  0.352908  "
      ]
     },
     "execution_count": 35,
     "metadata": {},
     "output_type": "execute_result"
    }
   ],
   "source": [
    "choose = [4, 5, 6, 7, 8, 14, 21, 0]\n",
    "sort_by = 14\n",
    "results = pd.DataFrame(adaboost_clf_cv.cv_results_).iloc[:, choose].rename(columns=column_translate).sort_values(sort_by, ascending=False)\n",
    "results.iloc[:6]"
   ]
  },
  {
   "cell_type": "code",
   "execution_count": 36,
   "metadata": {},
   "outputs": [
    {
     "name": "stdout",
     "output_type": "stream",
     "text": [
      "Ada Boosting:\n",
      "Accuracy on validation: 0.8333333333333334\n"
     ]
    },
    {
     "data": {
      "image/png": "[encoded data removed]",
      "text/plain": [
       "<Figure size 432x360 with 2 Axes>"
      ]
     },
     "metadata": {
      "needs_background": "light"
     },
     "output_type": "display_data"
    }
   ],
   "source": [
    "confusion_matrix_on_val(\"Ada Boosting\", adaboost_clf_cv.best_estimator_)"
   ]
  },
  {
   "cell_type": "code",
   "execution_count": 37,
   "metadata": {},
   "outputs": [
    {
     "data": {
      "image/png": "[encoded data removed]",
      "text/plain": [
       "<Figure size 432x432 with 1 Axes>"
      ]
     },
     "metadata": {
      "needs_background": "light"
     },
     "output_type": "display_data"
    }
   ],
   "source": [
    "ROC_on_val({\"Logistic Regression\": logreg_clf_cv.best_estimator_,\n",
    "            \"Gradient Boosting\": gradboost_clf_cv.best_estimator_,\n",
    "            \"Ada Boosting\": adaboost_clf_cv.best_estimator_\n",
    "           })"
   ]
  },
  {
   "cell_type": "markdown",
   "metadata": {},
   "source": [
    "---\n",
    "## Soft voting of the last three tuned classifiers"
   ]
  },
  {
   "cell_type": "code",
   "execution_count": 38,
   "metadata": {},
   "outputs": [],
   "source": [
    "vote_clf = VotingClassifier([\n",
    "                (\"Logistic Regression\", logreg_clf_cv.best_estimator_),\n",
    "                (\"Gradient Boosting\", gradboost_clf_cv.best_estimator_),\n",
    "                (\"Ada Boosting\", adaboost_clf_cv.best_estimator_)\n",
    "            ],\n",
    "            voting=\"soft\",\n",
    "            weights = [2,1,10]\n",
    "            )"
   ]
  },
  {
   "cell_type": "code",
   "execution_count": 39,
   "metadata": {},
   "outputs": [
    {
     "data": {
      "text/plain": [
       "VotingClassifier(estimators=[('Logistic Regression', Pipeline(memory=None,\n",
       "     steps=[('preprocess', FeatureUnion(n_jobs=None,\n",
       "       transformer_list=[('numerical_transformer', ColumnTransformer(n_jobs=None, remainder='drop', sparse_threshold=0,\n",
       "         transformer_weights=None,\n",
       "         transformers=[('age_discr..., fit_prior=True, norm=False),\n",
       "          learning_rate=0.1, n_estimators=100, random_state=123))]))],\n",
       "         flatten_transform=None, n_jobs=None, voting='soft',\n",
       "         weights=[2, 1, 10])"
      ]
     },
     "execution_count": 39,
     "metadata": {},
     "output_type": "execute_result"
    }
   ],
   "source": [
    "vote_clf.fit(X_train, y_train)"
   ]
  },
  {
   "cell_type": "code",
   "execution_count": 40,
   "metadata": {},
   "outputs": [
    {
     "name": "stdout",
     "output_type": "stream",
     "text": [
      "Soft Voting:\n",
      "Accuracy on validation: 0.8333333333333334\n"
     ]
    },
    {
     "data": {
      "image/png": "[encoded data removed]",
      "text/plain": [
       "<Figure size 432x360 with 2 Axes>"
      ]
     },
     "metadata": {
      "needs_background": "light"
     },
     "output_type": "display_data"
    }
   ],
   "source": [
    "confusion_matrix_on_val(\"Soft Voting\", vote_clf)"
   ]
  },
  {
   "cell_type": "code",
   "execution_count": 41,
   "metadata": {},
   "outputs": [
    {
     "data": {
      "image/png": "[encoded data removed]",
      "text/plain": [
       "<Figure size 432x432 with 1 Axes>"
      ]
     },
     "metadata": {
      "needs_background": "light"
     },
     "output_type": "display_data"
    }
   ],
   "source": [
    "ROC_on_val({\"Logistic Regression\": logreg_clf_cv.best_estimator_,\n",
    "            \"Ada Boosting\": adaboost_clf_cv.best_estimator_,\n",
    "            \"Soft Voting\": vote_clf,\n",
    "            \"Grad Boosting\": gradboost_clf_cv.best_estimator_\n",
    "           })"
   ]
  },
  {
   "cell_type": "markdown",
   "metadata": {},
   "source": [
    "Save the Voting Classifier to a file."
   ]
  },
  {
   "cell_type": "code",
   "execution_count": 42,
   "metadata": {},
   "outputs": [],
   "source": [
    "with open(\"vote_clf.pkl\", \"wb\") as file:\n",
    "    dump(vote_clf, file)"
   ]
  },
  {
   "cell_type": "markdown",
   "metadata": {},
   "source": [
    "---\n",
    "Example of some predicted probabilities..."
   ]
  },
  {
   "cell_type": "code",
   "execution_count": 45,
   "metadata": {},
   "outputs": [
    {
     "name": "stdout",
     "output_type": "stream",
     "text": [
      "[[0.33132895 0.66867105]\n",
      " [0.64510121 0.35489879]\n",
      " [0.63152162 0.36847838]\n",
      " [0.4732634  0.5267366 ]\n",
      " [0.60835072 0.39164928]]\n"
     ]
    },
    {
     "data": {
      "text/plain": [
       "530    1\n",
       "401    0\n",
       "433    0\n",
       "241    1\n",
       "773    0\n",
       "Name: Survived, dtype: int64"
      ]
     },
     "execution_count": 45,
     "metadata": {},
     "output_type": "execute_result"
    }
   ],
   "source": [
    "print(vote_clf.predict_proba(X_val)[:5])\n",
    "\n",
    "y_val[:5]"
   ]
  },
  {
   "cell_type": "markdown",
   "metadata": {},
   "source": [
    "---\n",
    "# Summary\n",
    "\n",
    "* The Voting Classifier composed of three classifiers that were tuned with cross-validated grid search and glued together via *soft-voting* (i.e. using weighted some of the predicted probabilities) is our best scoring model so far.\n",
    "\n",
    "* It is able to assign probability of survival to any record (i.e. passanger).\n",
    "\n",
    "* We will test it in the next notebook."
   ]
  },
  {
   "cell_type": "markdown",
   "metadata": {},
   "source": [
    "---\n",
    "### End"
   ]
  }
 ],
 "metadata": {
  "kernelspec": {
   "display_name": "Python 3",
   "language": "python",
   "name": "python3"
  },
  "language_info": {
   "codemirror_mode": {
    "name": "ipython",
    "version": 3
   },
   "file_extension": ".py",
   "mimetype": "text/x-python",
   "name": "python",
   "nbconvert_exporter": "python",
   "pygments_lexer": "ipython3",
   "version": "3.6.8"
  }
 },
 "nbformat": 4,
 "nbformat_minor": 2
}
