{
 "cells": [
  {
   "cell_type": "markdown",
   "metadata": {},
   "source": [
    "# Goal:\n",
    "\n",
    "* Fit the training-data to a few classifiers.\n",
    "* Measure/visualize the performance using confusion matric and ROC-curve.\n",
    "* Choose the best model (possibly an ensamble) based on accuracy on the validation-data.\n",
    "* Save it to file.\n",
    "\n",
    "Note: the intermediate models are also saved to file, so that one may load them in instead of fitting below."
   ]
  },
  {
   "cell_type": "code",
   "execution_count": 1,
   "metadata": {},
   "outputs": [],
   "source": [
    "import os\n",
    "import numpy as np\n",
    "import pandas as pd\n",
    "import matplotlib.pyplot as plt\n",
    "\n",
    "from sklearn.model_selection import train_test_split\n",
    "\n",
    "from sklearn.neighbors import KNeighborsClassifier\n",
    "from sklearn.linear_model import LogisticRegression\n",
    "from sklearn.naive_bayes import GaussianNB, ComplementNB\n",
    "from sklearn.tree import DecisionTreeClassifier\n",
    "from sklearn.ensemble import RandomForestClassifier, GradientBoostingClassifier, AdaBoostClassifier, VotingClassifier\n",
    "from sklearn.model_selection import GridSearchCV\n",
    "\n",
    "from sklearn.pipeline import Pipeline\n",
    "\n",
    "from sklearn.metrics import confusion_matrix, accuracy_score, roc_auc_score\n",
    "from sklearn.metrics import roc_curve, precision_recall_curve\n",
    "import seaborn as sns\n",
    "\n",
    "from pickle import dump, load"
   ]
  },
  {
   "cell_type": "markdown",
   "metadata": {},
   "source": [
    "---\n",
    "Copy-paste the data loading and the train-val-test split from the *preprocess_visualize.ipynb* notebook."
   ]
  },
  {
   "cell_type": "code",
   "execution_count": 2,
   "metadata": {},
   "outputs": [],
   "source": [
    "data_trainval = pd.read_csv(os.path.join('data', 'train.csv'))\n",
    "X_trainval = data_trainval[data_trainval.columns.drop('Survived')]\n",
    "y_trainval = data_trainval.Survived\n",
    "\n",
    "X_train, X_val, y_train, y_val = train_test_split(X_trainval, y_trainval, test_size=0.1, stratify = y_trainval, random_state=123)"
   ]
  },
  {
   "cell_type": "code",
   "execution_count": 3,
   "metadata": {},
   "outputs": [
    {
     "data": {
      "text/plain": [
       "(90, 11)"
      ]
     },
     "execution_count": 3,
     "metadata": {},
     "output_type": "execute_result"
    }
   ],
   "source": [
    "X_val.shape"
   ]
  },
  {
   "cell_type": "code",
   "execution_count": 4,
   "metadata": {},
   "outputs": [
    {
     "data": {
      "text/plain": [
       "0    0.611111\n",
       "1    0.388889\n",
       "Name: Survived, dtype: float64"
      ]
     },
     "execution_count": 4,
     "metadata": {},
     "output_type": "execute_result"
    }
   ],
   "source": [
    "y_val.value_counts() / len(y_val)"
   ]
  },
  {
   "cell_type": "markdown",
   "metadata": {},
   "source": [
    "---\n",
    "Define plotting utilities"
   ]
  },
  {
   "cell_type": "code",
   "execution_count": 5,
   "metadata": {},
   "outputs": [],
   "source": [
    "def confusion_matrix_on_val(name, estimator):\n",
    "    y_val_pred = estimator.predict(X_val)\n",
    "\n",
    "    print(f\"{name}:\")\n",
    "    print(f\"Accuracy on validation: {accuracy_score(y_val, y_val_pred)}\")\n",
    "\n",
    "    cm = confusion_matrix(y_val, y_val_pred)\n",
    "    fig, ax = plt.subplots()\n",
    "    fig.set_size_inches(6, 5)\n",
    "    sns.heatmap(cm, ax=ax, annot=True, fmt='d', cmap=\"YlGnBu\")\n",
    "    ax.set_xlabel('Predicted', fontsize=14)\n",
    "    ax.set_ylabel('True', fontsize=14)\n",
    "    plt.title(f'Confusion matrix on validation', fontsize=15)\n",
    "    plt.show()\n",
    "    \n",
    "def ROC_on_val(estimators):\n",
    "    \n",
    "    fig, ax = plt.subplots(ncols=1)\n",
    "    fig.set_size_inches(6, 6)\n",
    "    \n",
    "    for name, estimator in estimators.items():\n",
    "        \n",
    "        y_val_proba = estimator.predict_proba(X_val)[:,1]    \n",
    "        fpr, tpr, thresholds = roc_curve(y_val, y_val_proba)\n",
    "        ax.plot(fpr, tpr, label=name)\n",
    "\n",
    "    ax.plot([0, 1], [0, 1], ls='--', color='black', lw=.3)\n",
    "    ax.set(xlabel='False Positive Rate',\n",
    "           ylabel='True Positive Rate',\n",
    "           xlim=[-.01, 1.01], ylim=[-.01, 1.01],\n",
    "           title='ROC curve')\n",
    "    ax.grid(True)\n",
    "    ax.legend()\n",
    "    plt.show()"
   ]
  },
  {
   "cell_type": "markdown",
   "metadata": {},
   "source": [
    "---\n",
    "Build the preprocessing pipeline by running the script. It contains only class definitions and class instantiations (and occasional definition of a constant). "
   ]
  },
  {
   "cell_type": "code",
   "execution_count": 6,
   "metadata": {},
   "outputs": [],
   "source": [
    "%run build_preprocess_pipe.py"
   ]
  },
  {
   "cell_type": "markdown",
   "metadata": {},
   "source": [
    "We can do e.g."
   ]
  },
  {
   "cell_type": "code",
   "execution_count": 7,
   "metadata": {},
   "outputs": [],
   "source": [
    "preprocess = preprocessing_pipe().fit(X_train)"
   ]
  },
  {
   "cell_type": "markdown",
   "metadata": {},
   "source": [
    "---\n",
    "As a warmup, fit a few classifiers without tuning anything. We need models that can give a probability estimate. This rules out SVM-based classifiers."
   ]
  },
  {
   "cell_type": "code",
   "execution_count": 8,
   "metadata": {},
   "outputs": [],
   "source": [
    "X_train_preprocess = preprocess.transform(X_train)\n",
    "X_val_preprocess = preprocess.transform(X_val)"
   ]
  },
  {
   "cell_type": "code",
   "execution_count": 9,
   "metadata": {},
   "outputs": [
    {
     "name": "stdout",
     "output_type": "stream",
     "text": [
      "0.8339575530586767\n",
      "0.8\n"
     ]
    }
   ],
   "source": [
    "neighbors = KNeighborsClassifier(n_neighbors=5).fit(X_train_preprocess, y_train)\n",
    "print(neighbors.score(X_train_preprocess, y_train))\n",
    "print(neighbors.score(X_val_preprocess, y_val))"
   ]
  },
  {
   "cell_type": "code",
   "execution_count": 10,
   "metadata": {},
   "outputs": [
    {
     "name": "stdout",
     "output_type": "stream",
     "text": [
      "0.83270911360799\n",
      "0.8333333333333334\n"
     ]
    }
   ],
   "source": [
    "log_reg = LogisticRegression(random_state=123, solver = 'lbfgs').fit(X_train_preprocess, y_train)\n",
    "print(log_reg.score(X_train_preprocess, y_train))\n",
    "print(log_reg.score(X_val_preprocess, y_val))"
   ]
  },
  {
   "cell_type": "code",
   "execution_count": 11,
   "metadata": {},
   "outputs": [
    {
     "name": "stdout",
     "output_type": "stream",
     "text": [
      "0.735330836454432\n",
      "0.7333333333333333\n"
     ]
    }
   ],
   "source": [
    "bayes_gauss = GaussianNB().fit(X_train_preprocess, y_train)\n",
    "print(bayes_gauss.score(X_train_preprocess, y_train))\n",
    "print(bayes_gauss.score(X_val_preprocess, y_val))"
   ]
  },
  {
   "cell_type": "code",
   "execution_count": 12,
   "metadata": {},
   "outputs": [
    {
     "name": "stdout",
     "output_type": "stream",
     "text": [
      "0.735330836454432\n",
      "0.7444444444444445\n"
     ]
    }
   ],
   "source": [
    "bayes_complement = ComplementNB().fit(X_train_preprocess, y_train)\n",
    "print(bayes_complement.score(X_train_preprocess, y_train))\n",
    "print(bayes_complement.score(X_val_preprocess, y_val))"
   ]
  },
  {
   "cell_type": "code",
   "execution_count": 13,
   "metadata": {},
   "outputs": [
    {
     "name": "stdout",
     "output_type": "stream",
     "text": [
      "0.8764044943820225\n",
      "0.8444444444444444\n"
     ]
    }
   ],
   "source": [
    "rand_forest = RandomForestClassifier(n_estimators=150, max_depth=6, random_state=123).fit(X_train_preprocess, y_train)\n",
    "print(rand_forest.score(X_train_preprocess, y_train))\n",
    "print(rand_forest.score(X_val_preprocess, y_val))"
   ]
  },
  {
   "cell_type": "code",
   "execution_count": 14,
   "metadata": {},
   "outputs": [
    {
     "name": "stdout",
     "output_type": "stream",
     "text": [
      "0.9263420724094882\n",
      "0.8444444444444444\n"
     ]
    }
   ],
   "source": [
    "grad_boost = GradientBoostingClassifier(n_estimators=150, max_depth=3, random_state=123, learning_rate=0.1, subsample=0.9).fit(X_train_preprocess, y_train)\n",
    "print(grad_boost.score(X_train_preprocess, y_train))\n",
    "print(grad_boost.score(X_val_preprocess, y_val))"
   ]
  },
  {
   "cell_type": "code",
   "execution_count": 15,
   "metadata": {},
   "outputs": [
    {
     "name": "stdout",
     "output_type": "stream",
     "text": [
      "0.8264669163545568\n",
      "0.8444444444444444\n"
     ]
    }
   ],
   "source": [
    "ada_boost = AdaBoostClassifier(base_estimator=ComplementNB(), n_estimators=150, learning_rate=0.5, random_state=123).fit(X_train_preprocess, y_train)\n",
    "print(ada_boost.score(X_train_preprocess, y_train))\n",
    "print(ada_boost.score(X_val_preprocess, y_val))"
   ]
  },
  {
   "cell_type": "markdown",
   "metadata": {},
   "source": [
    "Surprisingly, bare KNeighborsClassifier is not far behind. The naive Bayes's struggle, unless Ada-boosted. GradientBoosted trees are easy to overfit, wheras Logistic Regression seems rather robust in that regard. Let's choose KNeighbors, Logistic Regression, GradientBoosted trees and AdaBoosted Complement NaiveBayes for futher tuning."
   ]
  },
  {
   "cell_type": "code",
   "execution_count": 16,
   "metadata": {},
   "outputs": [],
   "source": [
    "kneigh_clf = Pipeline([\n",
    "    ('preprocess', preprocessing_pipe()),\n",
    "    ('clf', KNeighborsClassifier())\n",
    "])\n",
    "\n",
    "param_grid = {}\n",
    "param_grid['preprocess__numerical_transformer__fare_transformer__scaler__feature_range'] = [(-0.4, 1.4), (-0.2, 1.2), (0, 1), (0.2, 0.8)]\n",
    "param_grid['preprocess__numerical_transformer__age_discretizer__tresholds'] = [[5,10,15,30,50],[2,5,10,15,20,30,40,50,60]]\n",
    "param_grid['clf__n_neighbors'] = [3, 5, 7]\n",
    "param_grid['clf__weights'] = ['uniform', 'distance']\n",
    "param_grid['clf__p'] = [1, 1.5, 2]\n",
    "\n",
    "kneigh_clf_cv = GridSearchCV(kneigh_clf, param_grid, cv=4, refit=True, return_train_score=True, n_jobs=-1).fit(X_train, y_train)"
   ]
  },
  {
   "cell_type": "code",
   "execution_count": 17,
   "metadata": {},
   "outputs": [],
   "source": [
    "with open(\"kneigh_clf_cv.pkl\", \"wb\") as file:\n",
    "    dump(kneigh_clf_cv, file)"
   ]
  },
  {
   "cell_type": "code",
   "execution_count": 18,
   "metadata": {},
   "outputs": [],
   "source": [
    "with open(\"kneigh_clf_cv.pkl\", \"rb\") as file:\n",
    "    kneigh_clf_cv = load(file)"
   ]
  },
  {
   "cell_type": "markdown",
   "metadata": {},
   "source": [
    "Results of the Grid Search are given in the table below. One may choose which columns to display by specifying the corresponding number from the dictionary below."
   ]
  },
  {
   "cell_type": "code",
   "execution_count": 19,
   "metadata": {},
   "outputs": [
    {
     "data": {
      "text/plain": [
       "{0: 'mean_fit_time',\n",
       " 1: 'std_fit_time',\n",
       " 2: 'mean_score_time',\n",
       " 3: 'std_score_time',\n",
       " 4: 'param_clf__n_neighbors',\n",
       " 5: 'param_clf__p',\n",
       " 6: 'param_clf__weights',\n",
       " 7: 'param_preprocess__numerical_transformer__age_discretizer__tresholds',\n",
       " 8: 'param_preprocess__numerical_transformer__fare_transformer__scaler__feature_range',\n",
       " 9: 'params',\n",
       " 10: 'split0_test_score',\n",
       " 11: 'split1_test_score',\n",
       " 12: 'split2_test_score',\n",
       " 13: 'split3_test_score',\n",
       " 14: 'mean_test_score',\n",
       " 15: 'std_test_score',\n",
       " 16: 'rank_test_score',\n",
       " 17: 'split0_train_score',\n",
       " 18: 'split1_train_score',\n",
       " 19: 'split2_train_score',\n",
       " 20: 'split3_train_score',\n",
       " 21: 'mean_train_score',\n",
       " 22: 'std_train_score'}"
      ]
     },
     "execution_count": 19,
     "metadata": {},
     "output_type": "execute_result"
    }
   ],
   "source": [
    "column_translate = {key: idx for (idx, key) in enumerate(kneigh_clf_cv.cv_results_.keys())}\n",
    "{idx: key for (idx, key) in enumerate(kneigh_clf_cv.cv_results_.keys())}"
   ]
  },
  {
   "cell_type": "code",
   "execution_count": 23,
   "metadata": {},
   "outputs": [
    {
     "data": {
      "text/html": [
       "<div>\n",
       "<style scoped>\n",
       "    .dataframe tbody tr th:only-of-type {\n",
       "        vertical-align: middle;\n",
       "    }\n",
       "\n",
       "    .dataframe tbody tr th {\n",
       "        vertical-align: top;\n",
       "    }\n",
       "\n",
       "    .dataframe thead th {\n",
       "        text-align: right;\n",
       "    }\n",
       "</style>\n",
       "<table border=\"1\" class=\"dataframe\">\n",
       "  <thead>\n",
       "    <tr style=\"text-align: right;\">\n",
       "      <th></th>\n",
       "      <th>4</th>\n",
       "      <th>5</th>\n",
       "      <th>6</th>\n",
       "      <th>7</th>\n",
       "      <th>8</th>\n",
       "      <th>14</th>\n",
       "      <th>21</th>\n",
       "      <th>0</th>\n",
       "    </tr>\n",
       "  </thead>\n",
       "  <tbody>\n",
       "    <tr>\n",
       "      <th>107</th>\n",
       "      <td>7</td>\n",
       "      <td>1</td>\n",
       "      <td>distance</td>\n",
       "      <td>[5, 10, 15, 30, 50]</td>\n",
       "      <td>(0.2, 0.8)</td>\n",
       "      <td>0.776529</td>\n",
       "      <td>0.968373</td>\n",
       "      <td>0.102182</td>\n",
       "    </tr>\n",
       "    <tr>\n",
       "      <th>106</th>\n",
       "      <td>7</td>\n",
       "      <td>1</td>\n",
       "      <td>distance</td>\n",
       "      <td>[5, 10, 15, 30, 50]</td>\n",
       "      <td>(0, 1)</td>\n",
       "      <td>0.776529</td>\n",
       "      <td>0.968373</td>\n",
       "      <td>0.130699</td>\n",
       "    </tr>\n",
       "    <tr>\n",
       "      <th>73</th>\n",
       "      <td>5</td>\n",
       "      <td>1.5</td>\n",
       "      <td>distance</td>\n",
       "      <td>[5, 10, 15, 30, 50]</td>\n",
       "      <td>(-0.2, 1.2)</td>\n",
       "      <td>0.776529</td>\n",
       "      <td>0.968373</td>\n",
       "      <td>0.115517</td>\n",
       "    </tr>\n",
       "    <tr>\n",
       "      <th>26</th>\n",
       "      <td>3</td>\n",
       "      <td>1.5</td>\n",
       "      <td>distance</td>\n",
       "      <td>[5, 10, 15, 30, 50]</td>\n",
       "      <td>(0, 1)</td>\n",
       "      <td>0.775281</td>\n",
       "      <td>0.967956</td>\n",
       "      <td>0.062665</td>\n",
       "    </tr>\n",
       "    <tr>\n",
       "      <th>42</th>\n",
       "      <td>3</td>\n",
       "      <td>2</td>\n",
       "      <td>distance</td>\n",
       "      <td>[5, 10, 15, 30, 50]</td>\n",
       "      <td>(0, 1)</td>\n",
       "      <td>0.775281</td>\n",
       "      <td>0.967956</td>\n",
       "      <td>0.070534</td>\n",
       "    </tr>\n",
       "    <tr>\n",
       "      <th>74</th>\n",
       "      <td>5</td>\n",
       "      <td>1.5</td>\n",
       "      <td>distance</td>\n",
       "      <td>[5, 10, 15, 30, 50]</td>\n",
       "      <td>(0, 1)</td>\n",
       "      <td>0.775281</td>\n",
       "      <td>0.968373</td>\n",
       "      <td>0.119706</td>\n",
       "    </tr>\n",
       "    <tr>\n",
       "      <th>75</th>\n",
       "      <td>5</td>\n",
       "      <td>1.5</td>\n",
       "      <td>distance</td>\n",
       "      <td>[5, 10, 15, 30, 50]</td>\n",
       "      <td>(0.2, 0.8)</td>\n",
       "      <td>0.775281</td>\n",
       "      <td>0.968373</td>\n",
       "      <td>0.100504</td>\n",
       "    </tr>\n",
       "    <tr>\n",
       "      <th>27</th>\n",
       "      <td>3</td>\n",
       "      <td>1.5</td>\n",
       "      <td>distance</td>\n",
       "      <td>[5, 10, 15, 30, 50]</td>\n",
       "      <td>(0.2, 0.8)</td>\n",
       "      <td>0.775281</td>\n",
       "      <td>0.967956</td>\n",
       "      <td>0.065489</td>\n",
       "    </tr>\n",
       "    <tr>\n",
       "      <th>89</th>\n",
       "      <td>5</td>\n",
       "      <td>2</td>\n",
       "      <td>distance</td>\n",
       "      <td>[5, 10, 15, 30, 50]</td>\n",
       "      <td>(-0.2, 1.2)</td>\n",
       "      <td>0.775281</td>\n",
       "      <td>0.968373</td>\n",
       "      <td>0.103389</td>\n",
       "    </tr>\n",
       "    <tr>\n",
       "      <th>43</th>\n",
       "      <td>3</td>\n",
       "      <td>2</td>\n",
       "      <td>distance</td>\n",
       "      <td>[5, 10, 15, 30, 50]</td>\n",
       "      <td>(0.2, 0.8)</td>\n",
       "      <td>0.775281</td>\n",
       "      <td>0.967956</td>\n",
       "      <td>0.074180</td>\n",
       "    </tr>\n",
       "  </tbody>\n",
       "</table>\n",
       "</div>"
      ],
      "text/plain": [
       "    4    5         6                    7            8         14        21  \\\n",
       "107  7    1  distance  [5, 10, 15, 30, 50]   (0.2, 0.8)  0.776529  0.968373   \n",
       "106  7    1  distance  [5, 10, 15, 30, 50]       (0, 1)  0.776529  0.968373   \n",
       "73   5  1.5  distance  [5, 10, 15, 30, 50]  (-0.2, 1.2)  0.776529  0.968373   \n",
       "26   3  1.5  distance  [5, 10, 15, 30, 50]       (0, 1)  0.775281  0.967956   \n",
       "42   3    2  distance  [5, 10, 15, 30, 50]       (0, 1)  0.775281  0.967956   \n",
       "74   5  1.5  distance  [5, 10, 15, 30, 50]       (0, 1)  0.775281  0.968373   \n",
       "75   5  1.5  distance  [5, 10, 15, 30, 50]   (0.2, 0.8)  0.775281  0.968373   \n",
       "27   3  1.5  distance  [5, 10, 15, 30, 50]   (0.2, 0.8)  0.775281  0.967956   \n",
       "89   5    2  distance  [5, 10, 15, 30, 50]  (-0.2, 1.2)  0.775281  0.968373   \n",
       "43   3    2  distance  [5, 10, 15, 30, 50]   (0.2, 0.8)  0.775281  0.967956   \n",
       "\n",
       "           0   \n",
       "107  0.102182  \n",
       "106  0.130699  \n",
       "73   0.115517  \n",
       "26   0.062665  \n",
       "42   0.070534  \n",
       "74   0.119706  \n",
       "75   0.100504  \n",
       "27   0.065489  \n",
       "89   0.103389  \n",
       "43   0.074180  "
      ]
     },
     "execution_count": 23,
     "metadata": {},
     "output_type": "execute_result"
    }
   ],
   "source": [
    "choose = [4, 5, 6, 7, 8, 14, 21, 0]\n",
    "sort_by = 14\n",
    "results = pd.DataFrame(kneigh_clf_cv.cv_results_).iloc[:, choose].rename(columns=column_translate).sort_values(sort_by, ascending=False)\n",
    "results.iloc[:10]"
   ]
  },
  {
   "cell_type": "code",
   "execution_count": 21,
   "metadata": {},
   "outputs": [
    {
     "name": "stdout",
     "output_type": "stream",
     "text": [
      "K Nearest Neighbors:\n",
      "Accuracy on validation: 0.8222222222222222\n"
     ]
    },
    {
     "data": {
      "image/png": "[encoded data removed]",
      "text/plain": [
       "<Figure size 432x360 with 2 Axes>"
      ]
     },
     "metadata": {
      "needs_background": "light"
     },
     "output_type": "display_data"
    }
   ],
   "source": [
    "confusion_matrix_on_val(\"K Nearest Neighbors\", kneigh_clf_cv.best_estimator_)"
   ]
  },
  {
   "cell_type": "code",
   "execution_count": 22,
   "metadata": {},
   "outputs": [
    {
     "data": {
      "image/png": "[encoded data removed]",
      "text/plain": [
       "<Figure size 432x432 with 1 Axes>"
      ]
     },
     "metadata": {
      "needs_background": "light"
     },
     "output_type": "display_data"
    }
   ],
   "source": [
    "ROC_on_val({\"K Nearest Neighbors\": kneigh_clf_cv.best_estimator_})"
   ]
  },
  {
   "cell_type": "markdown",
   "metadata": {},
   "source": [
    "---\n",
    "## GridSearch: Logistic Regression"
   ]
  },
  {
   "cell_type": "code",
   "execution_count": 24,
   "metadata": {},
   "outputs": [],
   "source": [
    "logreg_clf = Pipeline([\n",
    "    ('preprocess', preprocessing_pipe()),\n",
    "    ('clf', LogisticRegression(solver='saga', max_iter=1e5))\n",
    "])"
   ]
  },
  {
   "cell_type": "code",
   "execution_count": 25,
   "metadata": {},
   "outputs": [],
   "source": [
    "param_grid = {}\n",
    "param_grid['preprocess__numerical_transformer__fare_transformer__scaler__feature_range'] = [(-0.2, 1.2), (0, 1), (0.2, 0.8)]\n",
    "param_grid['preprocess__numerical_transformer__age_discretizer__tresholds'] = [[5,10,15,30,50],[2,5,10,15,20,30,40,50,60]]\n",
    "param_grid['clf__C'] = [0.5, 0.75, 1, 2]\n",
    "param_grid['clf__penalty'] = ['l1', 'l2']\n",
    "\n",
    "logreg_clf_cv = GridSearchCV(logreg_clf, param_grid, cv=4, refit=True, return_train_score=True, n_jobs=-1).fit(X_train, y_train)"
   ]
  },
  {
   "cell_type": "code",
   "execution_count": 26,
   "metadata": {},
   "outputs": [],
   "source": [
    "with open(\"logreg_clf_cv.pkl\", \"wb\") as file:\n",
    "    dump(logreg_clf_cv, file)"
   ]
  },
  {
   "cell_type": "code",
   "execution_count": 27,
   "metadata": {},
   "outputs": [],
   "source": [
    "with open(\"logreg_clf_cv.pkl\", \"rb\") as file:\n",
    "    logreg_clf_cv = load(file)"
   ]
  },
  {
   "cell_type": "code",
   "execution_count": 28,
   "metadata": {},
   "outputs": [
    {
     "data": {
      "text/plain": [
       "{0: 'mean_fit_time',\n",
       " 1: 'std_fit_time',\n",
       " 2: 'mean_score_time',\n",
       " 3: 'std_score_time',\n",
       " 4: 'param_clf__C',\n",
       " 5: 'param_clf__penalty',\n",
       " 6: 'param_preprocess__numerical_transformer__age_discretizer__tresholds',\n",
       " 7: 'param_preprocess__numerical_transformer__fare_transformer__scaler__feature_range',\n",
       " 8: 'params',\n",
       " 9: 'split0_test_score',\n",
       " 10: 'split1_test_score',\n",
       " 11: 'split2_test_score',\n",
       " 12: 'split3_test_score',\n",
       " 13: 'mean_test_score',\n",
       " 14: 'std_test_score',\n",
       " 15: 'rank_test_score',\n",
       " 16: 'split0_train_score',\n",
       " 17: 'split1_train_score',\n",
       " 18: 'split2_train_score',\n",
       " 19: 'split3_train_score',\n",
       " 20: 'mean_train_score',\n",
       " 21: 'std_train_score'}"
      ]
     },
     "execution_count": 28,
     "metadata": {},
     "output_type": "execute_result"
    }
   ],
   "source": [
    "column_translate = {key: idx for (idx, key) in enumerate(logreg_clf_cv.cv_results_.keys())}\n",
    "{idx: key for (idx, key) in enumerate(logreg_clf_cv.cv_results_.keys())}"
   ]
  },
  {
   "cell_type": "code",
   "execution_count": 29,
   "metadata": {},
   "outputs": [
    {
     "data": {
      "text/html": [
       "<div>\n",
       "<style scoped>\n",
       "    .dataframe tbody tr th:only-of-type {\n",
       "        vertical-align: middle;\n",
       "    }\n",
       "\n",
       "    .dataframe tbody tr th {\n",
       "        vertical-align: top;\n",
       "    }\n",
       "\n",
       "    .dataframe thead th {\n",
       "        text-align: right;\n",
       "    }\n",
       "</style>\n",
       "<table border=\"1\" class=\"dataframe\">\n",
       "  <thead>\n",
       "    <tr style=\"text-align: right;\">\n",
       "      <th></th>\n",
       "      <th>4</th>\n",
       "      <th>5</th>\n",
       "      <th>6</th>\n",
       "      <th>7</th>\n",
       "      <th>13</th>\n",
       "      <th>20</th>\n",
       "      <th>0</th>\n",
       "    </tr>\n",
       "  </thead>\n",
       "  <tbody>\n",
       "    <tr>\n",
       "      <th>28</th>\n",
       "      <td>1</td>\n",
       "      <td>l1</td>\n",
       "      <td>[2, 5, 10, 15, 20, 30, 40, 50, 60]</td>\n",
       "      <td>(0, 1)</td>\n",
       "      <td>0.813983</td>\n",
       "      <td>0.829377</td>\n",
       "      <td>0.189896</td>\n",
       "    </tr>\n",
       "    <tr>\n",
       "      <th>27</th>\n",
       "      <td>1</td>\n",
       "      <td>l1</td>\n",
       "      <td>[2, 5, 10, 15, 20, 30, 40, 50, 60]</td>\n",
       "      <td>(-0.2, 1.2)</td>\n",
       "      <td>0.812734</td>\n",
       "      <td>0.828543</td>\n",
       "      <td>0.170450</td>\n",
       "    </tr>\n",
       "    <tr>\n",
       "      <th>0</th>\n",
       "      <td>0.5</td>\n",
       "      <td>l1</td>\n",
       "      <td>[5, 10, 15, 30, 50]</td>\n",
       "      <td>(-0.2, 1.2)</td>\n",
       "      <td>0.811486</td>\n",
       "      <td>0.823546</td>\n",
       "      <td>0.090711</td>\n",
       "    </tr>\n",
       "    <tr>\n",
       "      <th>2</th>\n",
       "      <td>0.5</td>\n",
       "      <td>l1</td>\n",
       "      <td>[5, 10, 15, 30, 50]</td>\n",
       "      <td>(0.2, 0.8)</td>\n",
       "      <td>0.811486</td>\n",
       "      <td>0.823129</td>\n",
       "      <td>0.171174</td>\n",
       "    </tr>\n",
       "    <tr>\n",
       "      <th>14</th>\n",
       "      <td>0.75</td>\n",
       "      <td>l1</td>\n",
       "      <td>[5, 10, 15, 30, 50]</td>\n",
       "      <td>(0.2, 0.8)</td>\n",
       "      <td>0.811486</td>\n",
       "      <td>0.827291</td>\n",
       "      <td>0.150186</td>\n",
       "    </tr>\n",
       "    <tr>\n",
       "      <th>13</th>\n",
       "      <td>0.75</td>\n",
       "      <td>l1</td>\n",
       "      <td>[5, 10, 15, 30, 50]</td>\n",
       "      <td>(0, 1)</td>\n",
       "      <td>0.811486</td>\n",
       "      <td>0.827291</td>\n",
       "      <td>0.239784</td>\n",
       "    </tr>\n",
       "  </tbody>\n",
       "</table>\n",
       "</div>"
      ],
      "text/plain": [
       "      4   5                                   6            7         13  \\\n",
       "28     1  l1  [2, 5, 10, 15, 20, 30, 40, 50, 60]       (0, 1)  0.813983   \n",
       "27     1  l1  [2, 5, 10, 15, 20, 30, 40, 50, 60]  (-0.2, 1.2)  0.812734   \n",
       "0    0.5  l1                 [5, 10, 15, 30, 50]  (-0.2, 1.2)  0.811486   \n",
       "2    0.5  l1                 [5, 10, 15, 30, 50]   (0.2, 0.8)  0.811486   \n",
       "14  0.75  l1                 [5, 10, 15, 30, 50]   (0.2, 0.8)  0.811486   \n",
       "13  0.75  l1                 [5, 10, 15, 30, 50]       (0, 1)  0.811486   \n",
       "\n",
       "          20        0   \n",
       "28  0.829377  0.189896  \n",
       "27  0.828543  0.170450  \n",
       "0   0.823546  0.090711  \n",
       "2   0.823129  0.171174  \n",
       "14  0.827291  0.150186  \n",
       "13  0.827291  0.239784  "
      ]
     },
     "execution_count": 29,
     "metadata": {},
     "output_type": "execute_result"
    }
   ],
   "source": [
    "choose = [4, 5, 6, 7, 13, 20, 0]\n",
    "sort_by = 13\n",
    "results = pd.DataFrame(logreg_clf_cv.cv_results_).iloc[:, choose].rename(columns=column_translate).sort_values(sort_by, ascending=False)\n",
    "results.iloc[:6]"
   ]
  },
  {
   "cell_type": "code",
   "execution_count": 30,
   "metadata": {},
   "outputs": [
    {
     "name": "stdout",
     "output_type": "stream",
     "text": [
      "Logistic Regression:\n",
      "Accuracy on validation: 0.8444444444444444\n"
     ]
    },
    {
     "data": {
      "image/png": "[encoded data removed]",
      "text/plain": [
       "<Figure size 432x360 with 2 Axes>"
      ]
     },
     "metadata": {
      "needs_background": "light"
     },
     "output_type": "display_data"
    }
   ],
   "source": [
    "confusion_matrix_on_val(\"Logistic Regression\", logreg_clf_cv.best_estimator_)"
   ]
  },
  {
   "cell_type": "code",
   "execution_count": 31,
   "metadata": {},
   "outputs": [
    {
     "data": {
      "image/png": "[encoded data removed]",
      "text/plain": [
       "<Figure size 432x432 with 1 Axes>"
      ]
     },
     "metadata": {
      "needs_background": "light"
     },
     "output_type": "display_data"
    }
   ],
   "source": [
    "ROC_on_val({\"K Nearest Neighbors\": kneigh_clf_cv.best_estimator_,\n",
    "            \"Logistic Regression\": logreg_clf_cv.best_estimator_\n",
    "           })"
   ]
  },
  {
   "cell_type": "markdown",
   "metadata": {},
   "source": [
    "---\n",
    "## GridSearch: GradientBoosting"
   ]
  },
  {
   "cell_type": "code",
   "execution_count": 32,
   "metadata": {},
   "outputs": [],
   "source": [
    "gradboost_clf = Pipeline([\n",
    "    ('preprocess', preprocessing_pipe()),\n",
    "    ('clf', GradientBoostingClassifier(random_state=123))\n",
    "])\n",
    "\n",
    "param_grid = {}\n",
    "param_grid['preprocess__numerical_transformer__fare_transformer__scaler__feature_range'] = [(-0.2, 1.2), (0, 1), (0.3, 0.7)]\n",
    "param_grid['preprocess__numerical_transformer__age_discretizer__tresholds'] = [[5,10,15,30,50],[2,5,10,15,20,30,40,50,60]]\n",
    "param_grid['clf__n_estimators'] = [100, 150, 200]\n",
    "param_grid['clf__max_depth'] = [3, 4, 5]\n",
    "param_grid['clf__learning_rate'] = [0.05, 0.1, 0.2]\n",
    "param_grid['clf__subsample'] = [0.1, 0.5, 1]\n",
    "\n",
    "gradboost_clf_cv = GridSearchCV(gradboost_clf, param_grid, cv=4, refit=True, return_train_score=True, n_jobs=-1, iid=False,).fit(X_train, y_train)"
   ]
  },
  {
   "cell_type": "code",
   "execution_count": 33,
   "metadata": {},
   "outputs": [],
   "source": [
    "with open(\"gradboost_clf_cv.pkl\", \"wb\") as file:\n",
    "    dump(gradboost_clf_cv, file)"
   ]
  },
  {
   "cell_type": "code",
   "execution_count": 34,
   "metadata": {},
   "outputs": [],
   "source": [
    "with open(\"gradboost_clf_cv.pkl\", \"rb\") as file:\n",
    "    gradboost_clf_cv = load(file)"
   ]
  },
  {
   "cell_type": "code",
   "execution_count": 35,
   "metadata": {},
   "outputs": [
    {
     "data": {
      "text/plain": [
       "{0: 'mean_fit_time',\n",
       " 1: 'std_fit_time',\n",
       " 2: 'mean_score_time',\n",
       " 3: 'std_score_time',\n",
       " 4: 'param_clf__learning_rate',\n",
       " 5: 'param_clf__max_depth',\n",
       " 6: 'param_clf__n_estimators',\n",
       " 7: 'param_clf__subsample',\n",
       " 8: 'param_preprocess__numerical_transformer__age_discretizer__tresholds',\n",
       " 9: 'param_preprocess__numerical_transformer__fare_transformer__scaler__feature_range',\n",
       " 10: 'params',\n",
       " 11: 'split0_test_score',\n",
       " 12: 'split1_test_score',\n",
       " 13: 'split2_test_score',\n",
       " 14: 'split3_test_score',\n",
       " 15: 'mean_test_score',\n",
       " 16: 'std_test_score',\n",
       " 17: 'rank_test_score',\n",
       " 18: 'split0_train_score',\n",
       " 19: 'split1_train_score',\n",
       " 20: 'split2_train_score',\n",
       " 21: 'split3_train_score',\n",
       " 22: 'mean_train_score',\n",
       " 23: 'std_train_score'}"
      ]
     },
     "execution_count": 35,
     "metadata": {},
     "output_type": "execute_result"
    }
   ],
   "source": [
    "column_translate = {key: idx for (idx, key) in enumerate(gradboost_clf_cv.cv_results_.keys())}\n",
    "{idx: key for (idx, key) in enumerate(gradboost_clf_cv.cv_results_.keys())}"
   ]
  },
  {
   "cell_type": "code",
   "execution_count": 36,
   "metadata": {},
   "outputs": [
    {
     "data": {
      "text/html": [
       "<div>\n",
       "<style scoped>\n",
       "    .dataframe tbody tr th:only-of-type {\n",
       "        vertical-align: middle;\n",
       "    }\n",
       "\n",
       "    .dataframe tbody tr th {\n",
       "        vertical-align: top;\n",
       "    }\n",
       "\n",
       "    .dataframe thead th {\n",
       "        text-align: right;\n",
       "    }\n",
       "</style>\n",
       "<table border=\"1\" class=\"dataframe\">\n",
       "  <thead>\n",
       "    <tr style=\"text-align: right;\">\n",
       "      <th></th>\n",
       "      <th>4</th>\n",
       "      <th>5</th>\n",
       "      <th>6</th>\n",
       "      <th>7</th>\n",
       "      <th>8</th>\n",
       "      <th>9</th>\n",
       "      <th>15</th>\n",
       "      <th>20</th>\n",
       "      <th>0</th>\n",
       "    </tr>\n",
       "  </thead>\n",
       "  <tbody>\n",
       "    <tr>\n",
       "      <th>44</th>\n",
       "      <td>0.05</td>\n",
       "      <td>3</td>\n",
       "      <td>200</td>\n",
       "      <td>0.5</td>\n",
       "      <td>[5, 10, 15, 30, 50]</td>\n",
       "      <td>(0.3, 0.7)</td>\n",
       "      <td>0.836428</td>\n",
       "      <td>0.905158</td>\n",
       "      <td>0.619691</td>\n",
       "    </tr>\n",
       "    <tr>\n",
       "      <th>42</th>\n",
       "      <td>0.05</td>\n",
       "      <td>3</td>\n",
       "      <td>200</td>\n",
       "      <td>0.5</td>\n",
       "      <td>[5, 10, 15, 30, 50]</td>\n",
       "      <td>(-0.2, 1.2)</td>\n",
       "      <td>0.835185</td>\n",
       "      <td>0.905158</td>\n",
       "      <td>0.678902</td>\n",
       "    </tr>\n",
       "    <tr>\n",
       "      <th>43</th>\n",
       "      <td>0.05</td>\n",
       "      <td>3</td>\n",
       "      <td>200</td>\n",
       "      <td>0.5</td>\n",
       "      <td>[5, 10, 15, 30, 50]</td>\n",
       "      <td>(0, 1)</td>\n",
       "      <td>0.835185</td>\n",
       "      <td>0.905158</td>\n",
       "      <td>0.614099</td>\n",
       "    </tr>\n",
       "    <tr>\n",
       "      <th>114</th>\n",
       "      <td>0.05</td>\n",
       "      <td>5</td>\n",
       "      <td>100</td>\n",
       "      <td>0.5</td>\n",
       "      <td>[5, 10, 15, 30, 50]</td>\n",
       "      <td>(-0.2, 1.2)</td>\n",
       "      <td>0.833866</td>\n",
       "      <td>0.941764</td>\n",
       "      <td>0.540737</td>\n",
       "    </tr>\n",
       "    <tr>\n",
       "      <th>116</th>\n",
       "      <td>0.05</td>\n",
       "      <td>5</td>\n",
       "      <td>100</td>\n",
       "      <td>0.5</td>\n",
       "      <td>[5, 10, 15, 30, 50]</td>\n",
       "      <td>(0.3, 0.7)</td>\n",
       "      <td>0.833866</td>\n",
       "      <td>0.941764</td>\n",
       "      <td>0.528933</td>\n",
       "    </tr>\n",
       "    <tr>\n",
       "      <th>115</th>\n",
       "      <td>0.05</td>\n",
       "      <td>5</td>\n",
       "      <td>100</td>\n",
       "      <td>0.5</td>\n",
       "      <td>[5, 10, 15, 30, 50]</td>\n",
       "      <td>(0, 1)</td>\n",
       "      <td>0.833866</td>\n",
       "      <td>0.941764</td>\n",
       "      <td>0.516536</td>\n",
       "    </tr>\n",
       "  </tbody>\n",
       "</table>\n",
       "</div>"
      ],
      "text/plain": [
       "       4  5    6    7                    8            9         15        20  \\\n",
       "44   0.05  3  200  0.5  [5, 10, 15, 30, 50]   (0.3, 0.7)  0.836428  0.905158   \n",
       "42   0.05  3  200  0.5  [5, 10, 15, 30, 50]  (-0.2, 1.2)  0.835185  0.905158   \n",
       "43   0.05  3  200  0.5  [5, 10, 15, 30, 50]       (0, 1)  0.835185  0.905158   \n",
       "114  0.05  5  100  0.5  [5, 10, 15, 30, 50]  (-0.2, 1.2)  0.833866  0.941764   \n",
       "116  0.05  5  100  0.5  [5, 10, 15, 30, 50]   (0.3, 0.7)  0.833866  0.941764   \n",
       "115  0.05  5  100  0.5  [5, 10, 15, 30, 50]       (0, 1)  0.833866  0.941764   \n",
       "\n",
       "           0   \n",
       "44   0.619691  \n",
       "42   0.678902  \n",
       "43   0.614099  \n",
       "114  0.540737  \n",
       "116  0.528933  \n",
       "115  0.516536  "
      ]
     },
     "execution_count": 36,
     "metadata": {},
     "output_type": "execute_result"
    }
   ],
   "source": [
    "choose = [4, 5, 6, 7, 8, 9, 15, 20, 0]\n",
    "sort_by = 15\n",
    "results = pd.DataFrame(gradboost_clf_cv.cv_results_).iloc[:, choose].rename(columns=column_translate).sort_values(sort_by, ascending=False)\n",
    "results.iloc[:6]"
   ]
  },
  {
   "cell_type": "code",
   "execution_count": 37,
   "metadata": {},
   "outputs": [
    {
     "name": "stdout",
     "output_type": "stream",
     "text": [
      "Gradient Boosting:\n",
      "Accuracy on validation: 0.8555555555555555\n"
     ]
    },
    {
     "data": {
      "image/png": "[encoded data removed]",
      "text/plain": [
       "<Figure size 432x360 with 2 Axes>"
      ]
     },
     "metadata": {
      "needs_background": "light"
     },
     "output_type": "display_data"
    }
   ],
   "source": [
    "confusion_matrix_on_val(\"Gradient Boosting\", gradboost_clf_cv.best_estimator_)"
   ]
  },
  {
   "cell_type": "code",
   "execution_count": 38,
   "metadata": {},
   "outputs": [
    {
     "data": {
      "image/png": "[encoded data removed]",
      "text/plain": [
       "<Figure size 432x432 with 1 Axes>"
      ]
     },
     "metadata": {
      "needs_background": "light"
     },
     "output_type": "display_data"
    }
   ],
   "source": [
    "ROC_on_val({\"K Nearest Neighbors\": kneigh_clf_cv.best_estimator_,\n",
    "            \"Logistic Regression\": logreg_clf_cv.best_estimator_,\n",
    "            \"Gradient Boosting\": gradboost_clf_cv.best_estimator_\n",
    "           })"
   ]
  },
  {
   "cell_type": "markdown",
   "metadata": {},
   "source": [
    "---\n",
    "## GridSearch: AdaBoost + NaiveBayes"
   ]
  },
  {
   "cell_type": "code",
   "execution_count": 39,
   "metadata": {},
   "outputs": [],
   "source": [
    "adaboost_clf = Pipeline([\n",
    "    ('preprocess', preprocessing_pipe()),\n",
    "    ('clf', AdaBoostClassifier(base_estimator=ComplementNB(), random_state=123))\n",
    "])\n",
    "\n",
    "param_grid = {}\n",
    "param_grid['preprocess__numerical_transformer__fare_transformer__scaler__feature_range'] = [(0, 1),  (0.3, 0.7)]\n",
    "param_grid['preprocess__numerical_transformer__age_discretizer__tresholds'] = [[5,10,15,30,50],[2,5,10,15,20,30,40,50,60]]\n",
    "param_grid['clf__n_estimators'] = [100, 150, 200]\n",
    "param_grid['clf__learning_rate'] = [0.02, 0.1, 0.5]\n",
    "param_grid['clf__base_estimator__alpha'] = [0.02, 0.1, 0.5]\n",
    "\n",
    "adaboost_clf_cv = GridSearchCV(adaboost_clf, param_grid, cv=4, refit=True, return_train_score=True, n_jobs=-1, iid=False,).fit(X_train, y_train)"
   ]
  },
  {
   "cell_type": "code",
   "execution_count": 40,
   "metadata": {},
   "outputs": [],
   "source": [
    "with open(\"adaboost_clf_cv.pkl\", \"wb\") as file:\n",
    "    dump(adaboost_clf_cv, file)"
   ]
  },
  {
   "cell_type": "code",
   "execution_count": 41,
   "metadata": {},
   "outputs": [],
   "source": [
    "with open(\"adaboost_clf_cv.pkl\", \"rb\") as file:\n",
    "    adaboost_clf_cv = load(file)"
   ]
  },
  {
   "cell_type": "code",
   "execution_count": 42,
   "metadata": {},
   "outputs": [
    {
     "data": {
      "text/plain": [
       "{0: 'mean_fit_time',\n",
       " 1: 'std_fit_time',\n",
       " 2: 'mean_score_time',\n",
       " 3: 'std_score_time',\n",
       " 4: 'param_clf__base_estimator__alpha',\n",
       " 5: 'param_clf__learning_rate',\n",
       " 6: 'param_clf__n_estimators',\n",
       " 7: 'param_preprocess__numerical_transformer__age_discretizer__tresholds',\n",
       " 8: 'param_preprocess__numerical_transformer__fare_transformer__scaler__feature_range',\n",
       " 9: 'params',\n",
       " 10: 'split0_test_score',\n",
       " 11: 'split1_test_score',\n",
       " 12: 'split2_test_score',\n",
       " 13: 'split3_test_score',\n",
       " 14: 'mean_test_score',\n",
       " 15: 'std_test_score',\n",
       " 16: 'rank_test_score',\n",
       " 17: 'split0_train_score',\n",
       " 18: 'split1_train_score',\n",
       " 19: 'split2_train_score',\n",
       " 20: 'split3_train_score',\n",
       " 21: 'mean_train_score',\n",
       " 22: 'std_train_score'}"
      ]
     },
     "execution_count": 42,
     "metadata": {},
     "output_type": "execute_result"
    }
   ],
   "source": [
    "column_translate = {key: idx for (idx, key) in enumerate(adaboost_clf_cv.cv_results_.keys())}\n",
    "{idx: key for (idx, key) in enumerate(adaboost_clf_cv.cv_results_.keys())}"
   ]
  },
  {
   "cell_type": "code",
   "execution_count": 43,
   "metadata": {},
   "outputs": [
    {
     "data": {
      "text/html": [
       "<div>\n",
       "<style scoped>\n",
       "    .dataframe tbody tr th:only-of-type {\n",
       "        vertical-align: middle;\n",
       "    }\n",
       "\n",
       "    .dataframe tbody tr th {\n",
       "        vertical-align: top;\n",
       "    }\n",
       "\n",
       "    .dataframe thead th {\n",
       "        text-align: right;\n",
       "    }\n",
       "</style>\n",
       "<table border=\"1\" class=\"dataframe\">\n",
       "  <thead>\n",
       "    <tr style=\"text-align: right;\">\n",
       "      <th></th>\n",
       "      <th>4</th>\n",
       "      <th>5</th>\n",
       "      <th>6</th>\n",
       "      <th>7</th>\n",
       "      <th>8</th>\n",
       "      <th>14</th>\n",
       "      <th>21</th>\n",
       "      <th>0</th>\n",
       "    </tr>\n",
       "  </thead>\n",
       "  <tbody>\n",
       "    <tr>\n",
       "      <th>88</th>\n",
       "      <td>0.5</td>\n",
       "      <td>0.1</td>\n",
       "      <td>150</td>\n",
       "      <td>[5, 10, 15, 30, 50]</td>\n",
       "      <td>(0, 1)</td>\n",
       "      <td>0.816365</td>\n",
       "      <td>0.822711</td>\n",
       "      <td>0.534467</td>\n",
       "    </tr>\n",
       "    <tr>\n",
       "      <th>45</th>\n",
       "      <td>0.1</td>\n",
       "      <td>0.02</td>\n",
       "      <td>200</td>\n",
       "      <td>[5, 10, 15, 30, 50]</td>\n",
       "      <td>(0.3, 0.7)</td>\n",
       "      <td>0.813865</td>\n",
       "      <td>0.815642</td>\n",
       "      <td>0.686849</td>\n",
       "    </tr>\n",
       "    <tr>\n",
       "      <th>44</th>\n",
       "      <td>0.1</td>\n",
       "      <td>0.02</td>\n",
       "      <td>200</td>\n",
       "      <td>[5, 10, 15, 30, 50]</td>\n",
       "      <td>(0, 1)</td>\n",
       "      <td>0.813840</td>\n",
       "      <td>0.818556</td>\n",
       "      <td>0.670770</td>\n",
       "    </tr>\n",
       "    <tr>\n",
       "      <th>53</th>\n",
       "      <td>0.1</td>\n",
       "      <td>0.1</td>\n",
       "      <td>150</td>\n",
       "      <td>[5, 10, 15, 30, 50]</td>\n",
       "      <td>(0.3, 0.7)</td>\n",
       "      <td>0.812665</td>\n",
       "      <td>0.821884</td>\n",
       "      <td>0.553965</td>\n",
       "    </tr>\n",
       "    <tr>\n",
       "      <th>52</th>\n",
       "      <td>0.1</td>\n",
       "      <td>0.1</td>\n",
       "      <td>150</td>\n",
       "      <td>[5, 10, 15, 30, 50]</td>\n",
       "      <td>(0, 1)</td>\n",
       "      <td>0.812665</td>\n",
       "      <td>0.822717</td>\n",
       "      <td>0.564817</td>\n",
       "    </tr>\n",
       "    <tr>\n",
       "      <th>93</th>\n",
       "      <td>0.5</td>\n",
       "      <td>0.1</td>\n",
       "      <td>200</td>\n",
       "      <td>[5, 10, 15, 30, 50]</td>\n",
       "      <td>(0.3, 0.7)</td>\n",
       "      <td>0.812659</td>\n",
       "      <td>0.822711</td>\n",
       "      <td>0.675153</td>\n",
       "    </tr>\n",
       "  </tbody>\n",
       "</table>\n",
       "</div>"
      ],
      "text/plain": [
       "     4     5    6                    7           8         14        21  \\\n",
       "88  0.5   0.1  150  [5, 10, 15, 30, 50]      (0, 1)  0.816365  0.822711   \n",
       "45  0.1  0.02  200  [5, 10, 15, 30, 50]  (0.3, 0.7)  0.813865  0.815642   \n",
       "44  0.1  0.02  200  [5, 10, 15, 30, 50]      (0, 1)  0.813840  0.818556   \n",
       "53  0.1   0.1  150  [5, 10, 15, 30, 50]  (0.3, 0.7)  0.812665  0.821884   \n",
       "52  0.1   0.1  150  [5, 10, 15, 30, 50]      (0, 1)  0.812665  0.822717   \n",
       "93  0.5   0.1  200  [5, 10, 15, 30, 50]  (0.3, 0.7)  0.812659  0.822711   \n",
       "\n",
       "          0   \n",
       "88  0.534467  \n",
       "45  0.686849  \n",
       "44  0.670770  \n",
       "53  0.553965  \n",
       "52  0.564817  \n",
       "93  0.675153  "
      ]
     },
     "execution_count": 43,
     "metadata": {},
     "output_type": "execute_result"
    }
   ],
   "source": [
    "choose = [4, 5, 6, 7, 8, 14, 21, 0]\n",
    "sort_by = 14\n",
    "results = pd.DataFrame(adaboost_clf_cv.cv_results_).iloc[:, choose].rename(columns=column_translate).sort_values(sort_by, ascending=False)\n",
    "results.iloc[:6]"
   ]
  },
  {
   "cell_type": "code",
   "execution_count": 44,
   "metadata": {},
   "outputs": [
    {
     "name": "stdout",
     "output_type": "stream",
     "text": [
      "Ada Boosting:\n",
      "Accuracy on validation: 0.8333333333333334\n"
     ]
    },
    {
     "data": {
      "image/png": "[encoded data removed]",
      "text/plain": [
       "<Figure size 432x360 with 2 Axes>"
      ]
     },
     "metadata": {
      "needs_background": "light"
     },
     "output_type": "display_data"
    }
   ],
   "source": [
    "confusion_matrix_on_val(\"Ada Boosting\", adaboost_clf_cv.best_estimator_)"
   ]
  },
  {
   "cell_type": "code",
   "execution_count": 45,
   "metadata": {},
   "outputs": [
    {
     "data": {
      "image/png": "[encoded data removed]",
      "text/plain": [
       "<Figure size 432x432 with 1 Axes>"
      ]
     },
     "metadata": {
      "needs_background": "light"
     },
     "output_type": "display_data"
    }
   ],
   "source": [
    "ROC_on_val({\"K Nearest Neighbors\": kneigh_clf_cv.best_estimator_,\n",
    "            \"Logistic Regression\": logreg_clf_cv.best_estimator_,\n",
    "            \"Gradient Boosting\": gradboost_clf_cv.best_estimator_,\n",
    "            \"Ada Boosting\": adaboost_clf_cv.best_estimator_\n",
    "           })"
   ]
  },
  {
   "cell_type": "markdown",
   "metadata": {},
   "source": [
    "---\n",
    "## Soft voting of the last three tuned classifiers"
   ]
  },
  {
   "cell_type": "code",
   "execution_count": 53,
   "metadata": {},
   "outputs": [],
   "source": [
    "vote_clf = VotingClassifier([\n",
    "                (\"K Nearest Neighbors\", kneigh_clf_cv.best_estimator_),\n",
    "                (\"Logistic Regression\", logreg_clf_cv.best_estimator_),\n",
    "                (\"Gradient Boosting\", gradboost_clf_cv.best_estimator_),\n",
    "                (\"Ada Boosting\", adaboost_clf_cv.best_estimator_)\n",
    "            ],\n",
    "            voting=\"soft\",\n",
    "            weights = [2, 1, 1, 1]\n",
    "            )"
   ]
  },
  {
   "cell_type": "code",
   "execution_count": 54,
   "metadata": {},
   "outputs": [
    {
     "data": {
      "text/plain": [
       "VotingClassifier(estimators=[('K Nearest Neighbors', Pipeline(memory=None,\n",
       "     steps=[('preprocess', FeatureUnion(n_jobs=None,\n",
       "       transformer_list=[('numerical_transformer', ColumnTransformer(n_jobs=None, remainder='drop', sparse_threshold=0,\n",
       "         transformer_weights=None,\n",
       "         transformers=[('age_discr..., fit_prior=True, norm=False),\n",
       "          learning_rate=0.1, n_estimators=150, random_state=123))]))],\n",
       "         flatten_transform=None, n_jobs=None, voting='soft',\n",
       "         weights=[2, 1, 1, 1])"
      ]
     },
     "execution_count": 54,
     "metadata": {},
     "output_type": "execute_result"
    }
   ],
   "source": [
    "vote_clf.fit(X_train, y_train)"
   ]
  },
  {
   "cell_type": "code",
   "execution_count": 55,
   "metadata": {},
   "outputs": [
    {
     "name": "stdout",
     "output_type": "stream",
     "text": [
      "Soft Voting:\n",
      "Accuracy on validation: 0.8333333333333334\n"
     ]
    },
    {
     "data": {
      "image/png": "[encoded data removed]",
      "text/plain": [
       "<Figure size 432x360 with 2 Axes>"
      ]
     },
     "metadata": {
      "needs_background": "light"
     },
     "output_type": "display_data"
    }
   ],
   "source": [
    "confusion_matrix_on_val(\"Soft Voting\", vote_clf)"
   ]
  },
  {
   "cell_type": "code",
   "execution_count": 56,
   "metadata": {},
   "outputs": [
    {
     "data": {
      "image/png": "[encoded data removed]",
      "text/plain": [
       "<Figure size 432x432 with 1 Axes>"
      ]
     },
     "metadata": {
      "needs_background": "light"
     },
     "output_type": "display_data"
    }
   ],
   "source": [
    "ROC_on_val({\"K Nearest Neighbors\": kneigh_clf_cv.best_estimator_,\n",
    "            \"Logistic Regression\": logreg_clf_cv.best_estimator_,\n",
    "            \"Ada Boosting\": adaboost_clf_cv.best_estimator_,\n",
    "            \"Grad Boosting\": gradboost_clf_cv.best_estimator_,\n",
    "            \"Soft Voting\": vote_clf,\n",
    "           })"
   ]
  },
  {
   "cell_type": "markdown",
   "metadata": {},
   "source": [
    "Save the Voting Classifier to a file."
   ]
  },
  {
   "cell_type": "code",
   "execution_count": 57,
   "metadata": {},
   "outputs": [],
   "source": [
    "with open(\"vote_clf.pkl\", \"wb\") as file:\n",
    "    dump(vote_clf, file)"
   ]
  },
  {
   "cell_type": "markdown",
   "metadata": {},
   "source": [
    "---\n",
    "Example of some predicted probabilities..."
   ]
  },
  {
   "cell_type": "code",
   "execution_count": 52,
   "metadata": {},
   "outputs": [
    {
     "name": "stdout",
     "output_type": "stream",
     "text": [
      "[[0.82866278 0.17133722]\n",
      " [0.3169814  0.6830186 ]\n",
      " [0.53047255 0.46952745]\n",
      " [0.45884755 0.54115245]\n",
      " [0.65316539 0.34683461]]\n"
     ]
    },
    {
     "data": {
      "text/plain": [
       "225    0\n",
       "479    1\n",
       "645    1\n",
       "460    1\n",
       "817    0\n",
       "Name: Survived, dtype: int64"
      ]
     },
     "execution_count": 52,
     "metadata": {},
     "output_type": "execute_result"
    }
   ],
   "source": [
    "print(vote_clf.predict_proba(X_val)[:5])\n",
    "\n",
    "y_val[:5]"
   ]
  },
  {
   "cell_type": "markdown",
   "metadata": {},
   "source": [
    "---\n",
    "# Summary\n",
    "\n",
    "* The Voting Classifier composed of three classifiers that were tuned with cross-validated grid search and glued together via *soft-voting* (i.e. using weighted some of the predicted probabilities) is our best scoring model so far.\n",
    "\n",
    "* It is able to assign probability of survival to any record (i.e. passanger).\n",
    "\n",
    "* We will test it in the next notebook."
   ]
  },
  {
   "cell_type": "markdown",
   "metadata": {},
   "source": [
    "---\n",
    "### End"
   ]
  }
 ],
 "metadata": {
  "kernelspec": {
   "display_name": "Python 3",
   "language": "python",
   "name": "python3"
  },
  "language_info": {
   "codemirror_mode": {
    "name": "ipython",
    "version": 3
   },
   "file_extension": ".py",
   "mimetype": "text/x-python",
   "name": "python",
   "nbconvert_exporter": "python",
   "pygments_lexer": "ipython3",
   "version": "3.6.8"
  }
 },
 "nbformat": 4,
 "nbformat_minor": 2
}
